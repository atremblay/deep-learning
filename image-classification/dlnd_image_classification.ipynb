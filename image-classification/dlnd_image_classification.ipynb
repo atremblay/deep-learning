{
 "cells": [
  {
   "cell_type": "markdown",
   "metadata": {
    "collapsed": true,
    "deletable": true,
    "editable": true
   },
   "source": [
    "# Image Classification\n",
    "In this project, you'll classify images from the [CIFAR-10 dataset](https://www.cs.toronto.edu/~kriz/cifar.html).  The dataset consists of airplanes, dogs, cats, and other objects. You'll preprocess the images, then train a convolutional neural network on all the samples. The images need to be normalized and the labels need to be one-hot encoded.  You'll get to apply what you learned and build a convolutional, max pooling, dropout, and fully connected layers.  At the end, you'll get to see your neural network's predictions on the sample images.\n",
    "## Get the Data\n",
    "Run the following cell to download the [CIFAR-10 dataset for python](https://www.cs.toronto.edu/~kriz/cifar-10-python.tar.gz)."
   ]
  },
  {
   "cell_type": "code",
   "execution_count": 1,
   "metadata": {
    "collapsed": false,
    "deletable": true,
    "editable": true
   },
   "outputs": [
    {
     "name": "stdout",
     "output_type": "stream",
     "text": [
      "All files found!\n"
     ]
    }
   ],
   "source": [
    "\"\"\"\n",
    "DON'T MODIFY ANYTHING IN THIS CELL THAT IS BELOW THIS LINE\n",
    "\"\"\"\n",
    "from urllib.request import urlretrieve\n",
    "from os.path import isfile, isdir\n",
    "from tqdm import tqdm\n",
    "import problem_unittests as tests\n",
    "import tarfile\n",
    "\n",
    "cifar10_dataset_folder_path = 'cifar-10-batches-py'\n",
    "\n",
    "# Use Floyd's cifar-10 dataset if present\n",
    "floyd_cifar10_location = '/input/cifar-10/python.tar.gz'\n",
    "if isfile(floyd_cifar10_location):\n",
    "    tar_gz_path = floyd_cifar10_location\n",
    "else:\n",
    "    tar_gz_path = 'cifar-10-python.tar.gz'\n",
    "\n",
    "class DLProgress(tqdm):\n",
    "    last_block = 0\n",
    "\n",
    "    def hook(self, block_num=1, block_size=1, total_size=None):\n",
    "        self.total = total_size\n",
    "        self.update((block_num - self.last_block) * block_size)\n",
    "        self.last_block = block_num\n",
    "\n",
    "if not isfile(tar_gz_path):\n",
    "    with DLProgress(unit='B', unit_scale=True, miniters=1, desc='CIFAR-10 Dataset') as pbar:\n",
    "        urlretrieve(\n",
    "            'https://www.cs.toronto.edu/~kriz/cifar-10-python.tar.gz',\n",
    "            tar_gz_path,\n",
    "            pbar.hook)\n",
    "\n",
    "if not isdir(cifar10_dataset_folder_path):\n",
    "    with tarfile.open(tar_gz_path) as tar:\n",
    "        tar.extractall()\n",
    "        tar.close()\n",
    "\n",
    "\n",
    "tests.test_folder_path(cifar10_dataset_folder_path)"
   ]
  },
  {
   "cell_type": "markdown",
   "metadata": {
    "deletable": true,
    "editable": true
   },
   "source": [
    "## Explore the Data\n",
    "The dataset is broken into batches to prevent your machine from running out of memory.  The CIFAR-10 dataset consists of 5 batches, named `data_batch_1`, `data_batch_2`, etc.. Each batch contains the labels and images that are one of the following:\n",
    "* airplane\n",
    "* automobile\n",
    "* bird\n",
    "* cat\n",
    "* deer\n",
    "* dog\n",
    "* frog\n",
    "* horse\n",
    "* ship\n",
    "* truck\n",
    "\n",
    "Understanding a dataset is part of making predictions on the data.  Play around with the code cell below by changing the `batch_id` and `sample_id`. The `batch_id` is the id for a batch (1-5). The `sample_id` is the id for a image and label pair in the batch.\n",
    "\n",
    "Ask yourself \"What are all possible labels?\", \"What is the range of values for the image data?\", \"Are the labels in order or random?\".  Answers to questions like these will help you preprocess the data and end up with better predictions."
   ]
  },
  {
   "cell_type": "code",
   "execution_count": 2,
   "metadata": {
    "collapsed": false,
    "deletable": true,
    "editable": true
   },
   "outputs": [
    {
     "name": "stdout",
     "output_type": "stream",
     "text": [
      "\n",
      "Stats of batch 5:\n",
      "Samples: 10000\n",
      "Label Counts: {0: 1014, 1: 1014, 2: 952, 3: 1016, 4: 997, 5: 1025, 6: 980, 7: 977, 8: 1003, 9: 1022}\n",
      "First 20 Labels: [1, 8, 5, 1, 5, 7, 4, 3, 8, 2, 7, 2, 0, 1, 5, 9, 6, 2, 0, 8]\n",
      "\n",
      "Example of Image 5:\n",
      "Image - Min Value: 1 Max Value: 255\n",
      "Image - Shape: (32, 32, 3)\n",
      "Label - Label Id: 7 Name: horse\n"
     ]
    },
    {
     "data": {
      "image/png": "[encoded data removed]",
      "text/plain": [
       "<matplotlib.figure.Figure at 0x7fc83b57b978>"
      ]
     },
     "metadata": {
      "image/png": {
       "height": 250,
       "width": 253
      }
     },
     "output_type": "display_data"
    }
   ],
   "source": [
    "%matplotlib inline\n",
    "%config InlineBackend.figure_format = 'retina'\n",
    "\n",
    "import helper\n",
    "import numpy as np\n",
    "\n",
    "# Explore the dataset\n",
    "batch_id = 5\n",
    "sample_id = 5\n",
    "helper.display_stats(cifar10_dataset_folder_path, batch_id, sample_id)"
   ]
  },
  {
   "cell_type": "markdown",
   "metadata": {
    "deletable": true,
    "editable": true
   },
   "source": [
    "## Implement Preprocess Functions\n",
    "### Normalize\n",
    "In the cell below, implement the `normalize` function to take in image data, `x`, and return it as a normalized Numpy array. The values should be in the range of 0 to 1, inclusive.  The return object should be the same shape as `x`."
   ]
  },
  {
   "cell_type": "code",
   "execution_count": 3,
   "metadata": {
    "collapsed": false,
    "deletable": true,
    "editable": true
   },
   "outputs": [
    {
     "name": "stdout",
     "output_type": "stream",
     "text": [
      "Tests Passed\n"
     ]
    }
   ],
   "source": [
    "def normalize(x):\n",
    "    \"\"\"\n",
    "    Normalize a list of sample image data in the range of 0 to 1\n",
    "    : x: List of image data.  The image shape is (32, 32, 3)\n",
    "    : return: Numpy array of normalize data\n",
    "    \"\"\"\n",
    "    # TODO: Implement Function\n",
    "    return x/255.\n",
    "\n",
    "\n",
    "\"\"\"\n",
    "DON'T MODIFY ANYTHING IN THIS CELL THAT IS BELOW THIS LINE\n",
    "\"\"\"\n",
    "tests.test_normalize(normalize)"
   ]
  },
  {
   "cell_type": "markdown",
   "metadata": {
    "deletable": true,
    "editable": true
   },
   "source": [
    "### One-hot encode\n",
    "Just like the previous code cell, you'll be implementing a function for preprocessing.  This time, you'll implement the `one_hot_encode` function. The input, `x`, are a list of labels.  Implement the function to return the list of labels as One-Hot encoded Numpy array.  The possible values for labels are 0 to 9. The one-hot encoding function should return the same encoding for each value between each call to `one_hot_encode`.  Make sure to save the map of encodings outside the function.\n",
    "\n",
    "Hint: Don't reinvent the wheel."
   ]
  },
  {
   "cell_type": "code",
   "execution_count": 4,
   "metadata": {
    "collapsed": false,
    "deletable": true,
    "editable": true
   },
   "outputs": [
    {
     "name": "stdout",
     "output_type": "stream",
     "text": [
      "Tests Passed\n"
     ]
    }
   ],
   "source": [
    "label_to_index = {}\n",
    "def one_hot_encode(x):\n",
    "    \"\"\"\n",
    "    One hot encode a list of sample labels. Return a one-hot encoded vector for each label.\n",
    "    : x: List of sample Labels\n",
    "    : return: Numpy array of one-hot encoded labels\n",
    "    \"\"\"\n",
    "    # TODO: Implement Function\n",
    "    one_hot = []\n",
    "    for label in x:\n",
    "        if label not in label_to_index:\n",
    "            label_to_index[label] = len(label_to_index)\n",
    "        one_hot.append(np.zeros(10))\n",
    "        one_hot[-1][label_to_index[label]] = 1\n",
    "    return np.array(one_hot)\n",
    "\n",
    "\n",
    "\"\"\"\n",
    "DON'T MODIFY ANYTHING IN THIS CELL THAT IS BELOW THIS LINE\n",
    "\"\"\"\n",
    "tests.test_one_hot_encode(one_hot_encode)"
   ]
  },
  {
   "cell_type": "markdown",
   "metadata": {
    "deletable": true,
    "editable": true
   },
   "source": [
    "### Randomize Data\n",
    "As you saw from exploring the data above, the order of the samples are randomized.  It doesn't hurt to randomize it again, but you don't need to for this dataset."
   ]
  },
  {
   "cell_type": "markdown",
   "metadata": {
    "deletable": true,
    "editable": true
   },
   "source": [
    "## Preprocess all the data and save it\n",
    "Running the code cell below will preprocess all the CIFAR-10 data and save it to file. The code below also uses 10% of the training data for validation."
   ]
  },
  {
   "cell_type": "code",
   "execution_count": 5,
   "metadata": {
    "collapsed": false,
    "deletable": true,
    "editable": true
   },
   "outputs": [],
   "source": [
    "\"\"\"\n",
    "DON'T MODIFY ANYTHING IN THIS CELL\n",
    "\"\"\"\n",
    "# Preprocess Training, Validation, and Testing Data\n",
    "helper.preprocess_and_save_data(cifar10_dataset_folder_path, normalize, one_hot_encode)"
   ]
  },
  {
   "cell_type": "markdown",
   "metadata": {
    "deletable": true,
    "editable": true
   },
   "source": [
    "# Check Point\n",
    "This is your first checkpoint.  If you ever decide to come back to this notebook or have to restart the notebook, you can start from here.  The preprocessed data has been saved to disk."
   ]
  },
  {
   "cell_type": "code",
   "execution_count": 6,
   "metadata": {
    "collapsed": true,
    "deletable": true,
    "editable": true
   },
   "outputs": [],
   "source": [
    "\"\"\"\n",
    "DON'T MODIFY ANYTHING IN THIS CELL\n",
    "\"\"\"\n",
    "import pickle\n",
    "import problem_unittests as tests\n",
    "import helper\n",
    "\n",
    "# Load the Preprocessed Validation data\n",
    "valid_features, valid_labels = pickle.load(open('preprocess_validation.p', mode='rb'))"
   ]
  },
  {
   "cell_type": "markdown",
   "metadata": {
    "deletable": true,
    "editable": true
   },
   "source": [
    "## Build the network\n",
    "For the neural network, you'll build each layer into a function.  Most of the code you've seen has been outside of functions. To test your code more thoroughly, we require that you put each layer in a function.  This allows us to give you better feedback and test for simple mistakes using our unittests before you submit your project.\n",
    "\n",
    "If you're finding it hard to dedicate enough time for this course a week, we've provided a small shortcut to this part of the project. In the next couple of problems, you'll have the option to use [TensorFlow Layers](https://www.tensorflow.org/api_docs/python/tf/layers) or [TensorFlow Layers (contrib)](https://www.tensorflow.org/api_guides/python/contrib.layers) to build each layer, except \"Convolutional & Max Pooling\" layer.  TF Layers is similar to Keras's and TFLearn's abstraction to layers, so it's easy to pickup.\n",
    "\n",
    "If you would like to get the most of this course, try to solve all the problems without TF Layers.  Let's begin!\n",
    "### Input\n",
    "The neural network needs to read the image data, one-hot encoded labels, and dropout keep probability. Implement the following functions\n",
    "* Implement `neural_net_image_input`\n",
    " * Return a [TF Placeholder](https://www.tensorflow.org/api_docs/python/tf/placeholder)\n",
    " * Set the shape using `image_shape` with batch size set to `None`.\n",
    " * Name the TensorFlow placeholder \"x\" using the TensorFlow `name` parameter in the [TF Placeholder](https://www.tensorflow.org/api_docs/python/tf/placeholder).\n",
    "* Implement `neural_net_label_input`\n",
    " * Return a [TF Placeholder](https://www.tensorflow.org/api_docs/python/tf/placeholder)\n",
    " * Set the shape using `n_classes` with batch size set to `None`.\n",
    " * Name the TensorFlow placeholder \"y\" using the TensorFlow `name` parameter in the [TF Placeholder](https://www.tensorflow.org/api_docs/python/tf/placeholder).\n",
    "* Implement `neural_net_keep_prob_input`\n",
    " * Return a [TF Placeholder](https://www.tensorflow.org/api_docs/python/tf/placeholder) for dropout keep probability.\n",
    " * Name the TensorFlow placeholder \"keep_prob\" using the TensorFlow `name` parameter in the [TF Placeholder](https://www.tensorflow.org/api_docs/python/tf/placeholder).\n",
    "\n",
    "These names will be used at the end of the project to load your saved model.\n",
    "\n",
    "Note: `None` for shapes in TensorFlow allow for a dynamic size."
   ]
  },
  {
   "cell_type": "code",
   "execution_count": 7,
   "metadata": {
    "collapsed": false,
    "deletable": true,
    "editable": true
   },
   "outputs": [
    {
     "name": "stdout",
     "output_type": "stream",
     "text": [
      "Image Input Tests Passed.\n",
      "Label Input Tests Passed.\n",
      "Keep Prob Tests Passed.\n"
     ]
    }
   ],
   "source": [
    "import tensorflow as tf\n",
    "\n",
    "def neural_net_image_input(image_shape):\n",
    "    \"\"\"\n",
    "    Return a Tensor for a batch of image input\n",
    "    : image_shape: Shape of the images\n",
    "    : return: Tensor for image input.\n",
    "    \"\"\"\n",
    "    # TODO: Implement Function\n",
    "    return tf.placeholder(shape=[None, *image_shape], name='x', dtype=tf.float32)\n",
    "\n",
    "\n",
    "def neural_net_label_input(n_classes):\n",
    "    \"\"\"\n",
    "    Return a Tensor for a batch of label input\n",
    "    : n_classes: Number of classes\n",
    "    : return: Tensor for label input.\n",
    "    \"\"\"\n",
    "    # TODO: Implement Function\n",
    "    return tf.placeholder(shape=[None, n_classes], name='y', dtype=tf.float32)\n",
    "\n",
    "\n",
    "def neural_net_keep_prob_input():\n",
    "    \"\"\"\n",
    "    Return a Tensor for keep probability\n",
    "    : return: Tensor for keep probability.\n",
    "    \"\"\"\n",
    "    # TODO: Implement Function\n",
    "    return tf.placeholder(name=\"keep_prob\", dtype=tf.float32)\n",
    "\n",
    "\n",
    "\"\"\"\n",
    "DON'T MODIFY ANYTHING IN THIS CELL THAT IS BELOW THIS LINE\n",
    "\"\"\"\n",
    "tf.reset_default_graph()\n",
    "tests.test_nn_image_inputs(neural_net_image_input)\n",
    "tests.test_nn_label_inputs(neural_net_label_input)\n",
    "tests.test_nn_keep_prob_inputs(neural_net_keep_prob_input)"
   ]
  },
  {
   "cell_type": "markdown",
   "metadata": {
    "deletable": true,
    "editable": true
   },
   "source": [
    "### Convolution and Max Pooling Layer\n",
    "Convolution layers have a lot of success with images. For this code cell, you should implement the function `conv2d_maxpool` to apply convolution then max pooling:\n",
    "* Create the weight and bias using `conv_ksize`, `conv_num_outputs` and the shape of `x_tensor`.\n",
    "* Apply a convolution to `x_tensor` using weight and `conv_strides`.\n",
    " * We recommend you use same padding, but you're welcome to use any padding.\n",
    "* Add bias\n",
    "* Add a nonlinear activation to the convolution.\n",
    "* Apply Max Pooling using `pool_ksize` and `pool_strides`.\n",
    " * We recommend you use same padding, but you're welcome to use any padding.\n",
    "\n",
    "Note: You **can't** use [TensorFlow Layers](https://www.tensorflow.org/api_docs/python/tf/layers) or [TensorFlow Layers (contrib)](https://www.tensorflow.org/api_guides/python/contrib.layers) for this layer.  You're free to use any TensorFlow package for all the other layers."
   ]
  },
  {
   "cell_type": "code",
   "execution_count": 8,
   "metadata": {
    "collapsed": false,
    "deletable": true,
    "editable": true
   },
   "outputs": [
    {
     "name": "stdout",
     "output_type": "stream",
     "text": [
      "Tests Passed\n"
     ]
    }
   ],
   "source": [
    "def conv2d_maxpool(x_tensor, conv_num_outputs, conv_ksize, conv_strides, pool_ksize, pool_strides):\n",
    "    \"\"\"\n",
    "    Apply convolution then max pooling to x_tensor\n",
    "    :param x_tensor: TensorFlow Tensor\n",
    "    :param conv_num_outputs: Number of outputs for the convolutional layer\n",
    "    :param conv_strides: Stride 2-D Tuple for convolution\n",
    "    :param pool_ksize: kernal size 2-D Tuple for pool\n",
    "    :param pool_strides: Stride 2-D Tuple for pool\n",
    "    : return: A tensor that represents convolution and max pooling of x_tensor\n",
    "    \"\"\"\n",
    "    # TODO: Implement Function\n",
    "    depth = x_tensor.get_shape().as_list()[-1]\n",
    "    F_W = tf.Variable(tf.truncated_normal((*conv_ksize, depth, conv_num_outputs), stddev=0.1))\n",
    "    F_b = tf.Variable(tf.zeros(conv_num_outputs))\n",
    "    strides = [1, *conv_strides, 1]\n",
    "    padding = 'SAME'\n",
    "    conv_layer = tf.nn.conv2d(x_tensor, F_W, strides=strides, padding=padding)\n",
    "    conv_layer = tf.nn.bias_add(conv_layer, F_b)\n",
    "    \n",
    "    conv_layer = tf.nn.relu(conv_layer)\n",
    "    conv_layer = tf.nn.max_pool(\n",
    "        conv_layer,\n",
    "        ksize=[1, *pool_ksize, 1],\n",
    "        strides=[1, *pool_strides, 1],\n",
    "        padding='SAME')\n",
    "\n",
    "    return conv_layer\n",
    "\n",
    "\"\"\"\n",
    "DON'T MODIFY ANYTHING IN THIS CELL THAT IS BELOW THIS LINE\n",
    "\"\"\"\n",
    "tests.test_con_pool(conv2d_maxpool)"
   ]
  },
  {
   "cell_type": "markdown",
   "metadata": {
    "deletable": true,
    "editable": true
   },
   "source": [
    "### Flatten Layer\n",
    "Implement the `flatten` function to change the dimension of `x_tensor` from a 4-D tensor to a 2-D tensor.  The output should be the shape (*Batch Size*, *Flattened Image Size*). You can use [TensorFlow Layers](https://www.tensorflow.org/api_docs/python/tf/layers) or [TensorFlow Layers (contrib)](https://www.tensorflow.org/api_guides/python/contrib.layers) for this layer."
   ]
  },
  {
   "cell_type": "code",
   "execution_count": 9,
   "metadata": {
    "collapsed": false,
    "deletable": true,
    "editable": true
   },
   "outputs": [
    {
     "name": "stdout",
     "output_type": "stream",
     "text": [
      "Tests Passed\n"
     ]
    }
   ],
   "source": [
    "def flatten(x_tensor):\n",
    "    \"\"\"\n",
    "    Flatten x_tensor to (Batch Size, Flattened Image Size)\n",
    "    : x_tensor: A tensor of size (Batch Size, ...), where ... are the image dimensions.\n",
    "    : return: A tensor of size (Batch Size, Flattened Image Size).\n",
    "    \"\"\"\n",
    "    # TODO: Implement Function\n",
    "    dim = x_tensor.get_shape().as_list()\n",
    "    return tf.reshape(x_tensor, shape=[-1, dim[1]*dim[2]*dim[3]])\n",
    "\n",
    "\n",
    "\"\"\"\n",
    "DON'T MODIFY ANYTHING IN THIS CELL THAT IS BELOW THIS LINE\n",
    "\"\"\"\n",
    "tests.test_flatten(flatten)"
   ]
  },
  {
   "cell_type": "markdown",
   "metadata": {
    "deletable": true,
    "editable": true
   },
   "source": [
    "### Fully-Connected Layer\n",
    "Implement the `fully_conn` function to apply a fully connected layer to `x_tensor` with the shape (*Batch Size*, *num_outputs*). You can use [TensorFlow Layers](https://www.tensorflow.org/api_docs/python/tf/layers) or [TensorFlow Layers (contrib)](https://www.tensorflow.org/api_guides/python/contrib.layers) for this layer."
   ]
  },
  {
   "cell_type": "code",
   "execution_count": 10,
   "metadata": {
    "collapsed": false,
    "deletable": true,
    "editable": true
   },
   "outputs": [
    {
     "name": "stdout",
     "output_type": "stream",
     "text": [
      "Tests Passed\n"
     ]
    }
   ],
   "source": [
    "def fully_conn(x_tensor, num_outputs):\n",
    "    \"\"\"\n",
    "    Apply a fully connected layer to x_tensor using weight and bias\n",
    "    : x_tensor: A 2-D tensor where the first dimension is batch size.\n",
    "    : num_outputs: The number of output that the new tensor should be.\n",
    "    : return: A 2-D tensor where the second dimension is num_outputs.\n",
    "    \"\"\"\n",
    "    # TODO: Implement Function\n",
    "    dim = x_tensor.get_shape().as_list()\n",
    "    W = tf.Variable(tf.truncated_normal((dim[1], num_outputs), stddev=0.1))\n",
    "    b = tf.Variable(tf.zeros(num_outputs))\n",
    "    return tf.nn.relu(tf.add(tf.matmul(x_tensor, W), b))\n",
    "\n",
    "#     or the easier version\n",
    "#     return tf.layers.dense(x_tensor, num_outputs)\n",
    "\n",
    "\n",
    "\"\"\"\n",
    "DON'T MODIFY ANYTHING IN THIS CELL THAT IS BELOW THIS LINE\n",
    "\"\"\"\n",
    "tests.test_fully_conn(fully_conn)"
   ]
  },
  {
   "cell_type": "markdown",
   "metadata": {
    "deletable": true,
    "editable": true
   },
   "source": [
    "### Output Layer\n",
    "Implement the `output` function to apply a fully connected layer to `x_tensor` with the shape (*Batch Size*, *num_outputs*). You can use [TensorFlow Layers](https://www.tensorflow.org/api_docs/python/tf/layers) or [TensorFlow Layers (contrib)](https://www.tensorflow.org/api_guides/python/contrib.layers) for this layer.\n",
    "\n",
    "Note: Activation, softmax, or cross entropy shouldn't be applied to this."
   ]
  },
  {
   "cell_type": "code",
   "execution_count": 11,
   "metadata": {
    "collapsed": false,
    "deletable": true,
    "editable": true
   },
   "outputs": [
    {
     "name": "stdout",
     "output_type": "stream",
     "text": [
      "Tests Passed\n"
     ]
    }
   ],
   "source": [
    "def output(x_tensor, num_outputs):\n",
    "    \"\"\"\n",
    "    Apply a output layer to x_tensor using weight and bias\n",
    "    : x_tensor: A 2-D tensor where the first dimension is batch size.\n",
    "    : num_outputs: The number of output that the new tensor should be.\n",
    "    : return: A 2-D tensor where the second dimension is num_outputs.\n",
    "    \"\"\"\n",
    "    # TODO: Implement Function\n",
    "    dim = x_tensor.get_shape().as_list()\n",
    "    W = tf.Variable(tf.truncated_normal((dim[1], num_outputs)))\n",
    "    b = tf.Variable(tf.zeros(num_outputs))\n",
    "    return tf.add(tf.matmul(x_tensor, W), b)\n",
    "\n",
    "\n",
    "\"\"\"\n",
    "DON'T MODIFY ANYTHING IN THIS CELL THAT IS BELOW THIS LINE\n",
    "\"\"\"\n",
    "tests.test_output(output)"
   ]
  },
  {
   "cell_type": "markdown",
   "metadata": {
    "deletable": true,
    "editable": true
   },
   "source": [
    "### Create Convolutional Model\n",
    "Implement the function `conv_net` to create a convolutional neural network model. The function takes in a batch of images, `x`, and outputs logits.  Use the layers you created above to create this model:\n",
    "\n",
    "* Apply 1, 2, or 3 Convolution and Max Pool layers\n",
    "* Apply a Flatten Layer\n",
    "* Apply 1, 2, or 3 Fully Connected Layers\n",
    "* Apply an Output Layer\n",
    "* Return the output\n",
    "* Apply [TensorFlow's Dropout](https://www.tensorflow.org/api_docs/python/tf/nn/dropout) to one or more layers in the model using `keep_prob`. "
   ]
  },
  {
   "cell_type": "code",
   "execution_count": 12,
   "metadata": {
    "collapsed": false,
    "deletable": true,
    "editable": true
   },
   "outputs": [
    {
     "name": "stdout",
     "output_type": "stream",
     "text": [
      "Neural Network Built!\n"
     ]
    }
   ],
   "source": [
    "def conv_net(x, keep_prob):\n",
    "    \"\"\"\n",
    "    Create a convolutional neural network model\n",
    "    : x: Placeholder tensor that holds image data.\n",
    "    : keep_prob: Placeholder tensor that hold dropout keep probability.\n",
    "    : return: Tensor that represents logits\n",
    "    \"\"\"\n",
    "    # TODO: Apply 1, 2, or 3 Convolution and Max Pool layers\n",
    "    #    Play around with different number of outputs, kernel size and stride\n",
    "    # Function Definition from Above:\n",
    "    #    conv2d_maxpool(x_tensor, conv_num_outputs, conv_ksize, conv_strides, pool_ksize, pool_strides)\n",
    "    \n",
    "    # First conv layer\n",
    "    conv_num_outputs = 32\n",
    "    conv_ksize = [3, 3]\n",
    "    conv_strides = [1, 1]\n",
    "    pool_ksize = [2, 2]\n",
    "    pool_strides = [2, 2]\n",
    "    x_tensor = conv2d_maxpool(x, conv_num_outputs, conv_ksize, conv_strides, pool_ksize, pool_strides)\n",
    "\n",
    "    # Second conv layer\n",
    "    conv_num_outputs = 64\n",
    "    conv_ksize = [3, 3]\n",
    "    conv_strides = [1, 1]\n",
    "    pool_ksize = [2, 2]\n",
    "    pool_strides = [2, 2]\n",
    "    x_tensor = conv2d_maxpool(x_tensor, conv_num_outputs, conv_ksize, conv_strides, pool_ksize, pool_strides)\n",
    "\n",
    "    # Third conv layer\n",
    "    conv_num_outputs = 128\n",
    "    conv_ksize = [3, 3]\n",
    "    conv_strides = [1, 1]\n",
    "    pool_ksize = [2, 2]\n",
    "    pool_strides = [2, 2]\n",
    "    x_tensor = conv2d_maxpool(x_tensor, conv_num_outputs, conv_ksize, conv_strides, pool_ksize, pool_strides)\n",
    "    \n",
    "    # Apply a Flatten Layer\n",
    "    x_tensor = flatten(x_tensor)\n",
    "    \n",
    "    # Apply 1, 2, or 3 Fully Connected Layers\n",
    "    #    Play around with different number of outputs\n",
    "    \n",
    "    # First fully connected layer with dropout\n",
    "    x_tensor = fully_conn(x_tensor, 64)\n",
    "    x_tensor = tf.nn.dropout(x_tensor, keep_prob)\n",
    "    \n",
    "    # Apply an Output Layer\n",
    "    #    Set this to the number of classes    \n",
    "    x_tensor = output(x_tensor, len(label_to_index))\n",
    "\n",
    "    return x_tensor\n",
    "\n",
    "\n",
    "\"\"\"\n",
    "DON'T MODIFY ANYTHING IN THIS CELL THAT IS BELOW THIS LINE\n",
    "\"\"\"\n",
    "\n",
    "##############################\n",
    "## Build the Neural Network ##\n",
    "##############################\n",
    "\n",
    "# Remove previous weights, bias, inputs, etc..\n",
    "tf.reset_default_graph()\n",
    "\n",
    "# Inputs\n",
    "x = neural_net_image_input((32, 32, 3))\n",
    "y = neural_net_label_input(10)\n",
    "keep_prob = neural_net_keep_prob_input()\n",
    "\n",
    "# Model\n",
    "logits = conv_net(x, keep_prob)\n",
    "\n",
    "# Name logits Tensor, so that is can be loaded from disk after training\n",
    "logits = tf.identity(logits, name='logits')\n",
    "\n",
    "# Loss and Optimizer\n",
    "cost = tf.reduce_mean(tf.nn.softmax_cross_entropy_with_logits(logits=logits, labels=y))\n",
    "optimizer = tf.train.AdamOptimizer().minimize(cost)\n",
    "\n",
    "# Accuracy\n",
    "correct_pred = tf.equal(tf.argmax(logits, 1), tf.argmax(y, 1))\n",
    "accuracy = tf.reduce_mean(tf.cast(correct_pred, tf.float32), name='accuracy')\n",
    "\n",
    "tests.test_conv_net(conv_net)"
   ]
  },
  {
   "cell_type": "markdown",
   "metadata": {
    "deletable": true,
    "editable": true
   },
   "source": [
    "## Train the Neural Network\n",
    "### Single Optimization\n",
    "Implement the function `train_neural_network` to do a single optimization.  The optimization should use `optimizer` to optimize in `session` with a `feed_dict` of the following:\n",
    "* `x` for image input\n",
    "* `y` for labels\n",
    "* `keep_prob` for keep probability for dropout\n",
    "\n",
    "This function will be called for each batch, so `tf.global_variables_initializer()` has already been called.\n",
    "\n",
    "Note: Nothing needs to be returned. This function is only optimizing the neural network."
   ]
  },
  {
   "cell_type": "code",
   "execution_count": 13,
   "metadata": {
    "collapsed": false,
    "deletable": true,
    "editable": true
   },
   "outputs": [
    {
     "name": "stdout",
     "output_type": "stream",
     "text": [
      "Tests Passed\n"
     ]
    }
   ],
   "source": [
    "def train_neural_network(session, optimizer, keep_probability, feature_batch, label_batch):\n",
    "    \"\"\"\n",
    "    Optimize the session on a batch of images and labels\n",
    "    : session: Current TensorFlow session\n",
    "    : optimizer: TensorFlow optimizer function\n",
    "    : keep_probability: keep probability\n",
    "    : feature_batch: Batch of Numpy image data\n",
    "    : label_batch: Batch of Numpy label data\n",
    "    \"\"\"\n",
    "    # TODO: Implement Function\n",
    "#     image_input = neural_net_image_input(feature_batch.shape)\n",
    "#     label_input = neural_net_label_input(len(label_batch))\n",
    "#     keep_prob = neural_net_keep_prob_input()\n",
    "    session.run(\n",
    "        optimizer, \n",
    "        feed_dict={\n",
    "            x: feature_batch, \n",
    "            y: label_batch, \n",
    "            keep_prob: keep_probability\n",
    "        }\n",
    "    )\n",
    "\n",
    "\n",
    "\"\"\"\n",
    "DON'T MODIFY ANYTHING IN THIS CELL THAT IS BELOW THIS LINE\n",
    "\"\"\"\n",
    "tests.test_train_nn(train_neural_network)"
   ]
  },
  {
   "cell_type": "markdown",
   "metadata": {
    "deletable": true,
    "editable": true
   },
   "source": [
    "### Show Stats\n",
    "Implement the function `print_stats` to print loss and validation accuracy.  Use the global variables `valid_features` and `valid_labels` to calculate validation accuracy.  Use a keep probability of `1.0` to calculate the loss and validation accuracy."
   ]
  },
  {
   "cell_type": "code",
   "execution_count": 14,
   "metadata": {
    "collapsed": false,
    "deletable": true,
    "editable": true
   },
   "outputs": [],
   "source": [
    "def print_stats(session, feature_batch, label_batch, cost, accuracy):\n",
    "    \"\"\"\n",
    "    Print information about loss and validation accuracy\n",
    "    : session: Current TensorFlow session\n",
    "    : feature_batch: Batch of Numpy image data\n",
    "    : label_batch: Batch of Numpy label data\n",
    "    : cost: TensorFlow cost function\n",
    "    : accuracy: TensorFlow accuracy function\n",
    "    \"\"\"\n",
    "    # TODO: Implement Function\n",
    "    batch_accuracy = session.run(\n",
    "        accuracy, \n",
    "        feed_dict={\n",
    "            x: feature_batch,\n",
    "            y: label_batch,\n",
    "            keep_prob: 1.\n",
    "        }\n",
    "    )\n",
    "    batch_cost = session.run(\n",
    "        cost, \n",
    "        feed_dict={\n",
    "            x: feature_batch,\n",
    "            y: label_batch,\n",
    "            keep_prob: 1.\n",
    "        }\n",
    "    )\n",
    "    \n",
    "    valid_accuracy = session.run(\n",
    "        accuracy, \n",
    "        feed_dict={\n",
    "            x: valid_features,\n",
    "            y: valid_labels,\n",
    "            keep_prob: 1.\n",
    "        }\n",
    "    )\n",
    "    valid_cost = session.run(\n",
    "        cost, \n",
    "        feed_dict={\n",
    "            x: valid_features,\n",
    "            y: valid_labels,\n",
    "            keep_prob: 1.\n",
    "        }\n",
    "    )\n",
    "    print(\n",
    "        \"batch acc: {:.4f}, batch cost: {:.4f}, valid acc: {:.4f}, valid cost: {:.4f}\".format(\n",
    "            batch_accuracy, batch_cost, valid_accuracy, valid_cost\n",
    "        )\n",
    "    )\n"
   ]
  },
  {
   "cell_type": "markdown",
   "metadata": {
    "deletable": true,
    "editable": true
   },
   "source": [
    "### Hyperparameters\n",
    "Tune the following parameters:\n",
    "* Set `epochs` to the number of iterations until the network stops learning or start overfitting\n",
    "* Set `batch_size` to the highest number that your machine has memory for.  Most people set them to common sizes of memory:\n",
    " * 64\n",
    " * 128\n",
    " * 256\n",
    " * ...\n",
    "* Set `keep_probability` to the probability of keeping a node using dropout"
   ]
  },
  {
   "cell_type": "code",
   "execution_count": 15,
   "metadata": {
    "collapsed": true,
    "deletable": true,
    "editable": true
   },
   "outputs": [],
   "source": [
    "# TODO: Tune Parameters\n",
    "epochs = 25\n",
    "batch_size = 512\n",
    "keep_probability = 0.8"
   ]
  },
  {
   "cell_type": "markdown",
   "metadata": {
    "deletable": true,
    "editable": true
   },
   "source": [
    "### Train on a Single CIFAR-10 Batch\n",
    "Instead of training the neural network on all the CIFAR-10 batches of data, let's use a single batch. This should save time while you iterate on the model to get a better accuracy.  Once the final validation accuracy is 50% or greater, run the model on all the data in the next section."
   ]
  },
  {
   "cell_type": "code",
   "execution_count": 16,
   "metadata": {
    "collapsed": false,
    "deletable": true,
    "editable": true,
    "scrolled": true
   },
   "outputs": [
    {
     "name": "stdout",
     "output_type": "stream",
     "text": [
      "Checking the Training on a Single Batch...\n",
      "Epoch  1, CIFAR-10 Batch 1:  batch acc: 0.1554, batch cost: 2.2374, valid acc: 0.1542, valid cost: 2.2448\n",
      "Epoch  2, CIFAR-10 Batch 1:  batch acc: 0.2128, batch cost: 2.1670, valid acc: 0.2072, valid cost: 2.1557\n",
      "Epoch  3, CIFAR-10 Batch 1:  batch acc: 0.2804, batch cost: 2.0350, valid acc: 0.2644, valid cost: 2.0186\n",
      "Epoch  4, CIFAR-10 Batch 1:  batch acc: 0.3041, batch cost: 1.9552, valid acc: 0.3132, valid cost: 1.9335\n",
      "Epoch  5, CIFAR-10 Batch 1:  batch acc: 0.3378, batch cost: 1.8668, valid acc: 0.3548, valid cost: 1.8464\n",
      "Epoch  6, CIFAR-10 Batch 1:  batch acc: 0.3750, batch cost: 1.7721, valid acc: 0.3890, valid cost: 1.7834\n",
      "Epoch  7, CIFAR-10 Batch 1:  batch acc: 0.4088, batch cost: 1.6958, valid acc: 0.4002, valid cost: 1.7423\n",
      "Epoch  8, CIFAR-10 Batch 1:  batch acc: 0.4459, batch cost: 1.6094, valid acc: 0.4286, valid cost: 1.6734\n",
      "Epoch  9, CIFAR-10 Batch 1:  batch acc: 0.4865, batch cost: 1.5105, valid acc: 0.4330, valid cost: 1.6242\n",
      "Epoch 10, CIFAR-10 Batch 1:  batch acc: 0.5236, batch cost: 1.4403, valid acc: 0.4620, valid cost: 1.5581\n",
      "Epoch 11, CIFAR-10 Batch 1:  batch acc: 0.5405, batch cost: 1.3478, valid acc: 0.4804, valid cost: 1.5039\n",
      "Epoch 12, CIFAR-10 Batch 1:  batch acc: 0.5473, batch cost: 1.2910, valid acc: 0.4862, valid cost: 1.4807\n",
      "Epoch 13, CIFAR-10 Batch 1:  batch acc: 0.5912, batch cost: 1.2382, valid acc: 0.4958, valid cost: 1.4580\n",
      "Epoch 14, CIFAR-10 Batch 1:  batch acc: 0.6284, batch cost: 1.1702, valid acc: 0.5072, valid cost: 1.4208\n",
      "Epoch 15, CIFAR-10 Batch 1:  batch acc: 0.6419, batch cost: 1.1431, valid acc: 0.5084, valid cost: 1.4302\n",
      "Epoch 16, CIFAR-10 Batch 1:  batch acc: 0.6554, batch cost: 1.0792, valid acc: 0.5206, valid cost: 1.3929\n",
      "Epoch 17, CIFAR-10 Batch 1:  batch acc: 0.6588, batch cost: 1.0473, valid acc: 0.5254, valid cost: 1.3708\n",
      "Epoch 18, CIFAR-10 Batch 1:  batch acc: 0.6926, batch cost: 1.0389, valid acc: 0.5238, valid cost: 1.3767\n",
      "Epoch 19, CIFAR-10 Batch 1:  batch acc: 0.7095, batch cost: 0.9672, valid acc: 0.5352, valid cost: 1.3257\n",
      "Epoch 20, CIFAR-10 Batch 1:  batch acc: 0.7230, batch cost: 0.9339, valid acc: 0.5374, valid cost: 1.3237\n",
      "Epoch 21, CIFAR-10 Batch 1:  batch acc: 0.7365, batch cost: 0.8768, valid acc: 0.5454, valid cost: 1.3087\n",
      "Epoch 22, CIFAR-10 Batch 1:  batch acc: 0.7331, batch cost: 0.8383, valid acc: 0.5466, valid cost: 1.2973\n",
      "Epoch 23, CIFAR-10 Batch 1:  batch acc: 0.7669, batch cost: 0.8066, valid acc: 0.5484, valid cost: 1.2881\n",
      "Epoch 24, CIFAR-10 Batch 1:  batch acc: 0.7635, batch cost: 0.7613, valid acc: 0.5538, valid cost: 1.2664\n",
      "Epoch 25, CIFAR-10 Batch 1:  batch acc: 0.7939, batch cost: 0.7374, valid acc: 0.5478, valid cost: 1.2761\n"
     ]
    }
   ],
   "source": [
    "\"\"\"\n",
    "DON'T MODIFY ANYTHING IN THIS CELL\n",
    "\"\"\"\n",
    "print('Checking the Training on a Single Batch...')\n",
    "with tf.Session() as sess:\n",
    "    # Initializing the variables\n",
    "    sess.run(tf.global_variables_initializer())\n",
    "    \n",
    "    # Training cycle\n",
    "    for epoch in range(epochs):\n",
    "        batch_i = 1\n",
    "        for batch_features, batch_labels in helper.load_preprocess_training_batch(batch_i, batch_size):\n",
    "            train_neural_network(sess, optimizer, keep_probability, batch_features, batch_labels)\n",
    "        print('Epoch {:>2}, CIFAR-10 Batch {}:  '.format(epoch + 1, batch_i), end='')\n",
    "        print_stats(sess, batch_features, batch_labels, cost, accuracy)"
   ]
  },
  {
   "cell_type": "markdown",
   "metadata": {
    "deletable": true,
    "editable": true
   },
   "source": [
    "### Fully Train the Model\n",
    "Now that you got a good accuracy with a single CIFAR-10 batch, try it with all five batches."
   ]
  },
  {
   "cell_type": "code",
   "execution_count": 17,
   "metadata": {
    "collapsed": false,
    "deletable": true,
    "editable": true,
    "scrolled": false
   },
   "outputs": [
    {
     "name": "stdout",
     "output_type": "stream",
     "text": [
      "Training...\n",
      "Epoch  1, CIFAR-10 Batch 1:  batch acc: 0.1318, batch cost: 2.2811, valid acc: 0.1220, valid cost: 2.2870\n",
      "Epoch  1, CIFAR-10 Batch 2:  batch acc: 0.1115, batch cost: 2.2732, valid acc: 0.1384, valid cost: 2.2548\n",
      "Epoch  1, CIFAR-10 Batch 3:  batch acc: 0.2162, batch cost: 2.1584, valid acc: 0.2148, valid cost: 2.1571\n",
      "Epoch  1, CIFAR-10 Batch 4:  batch acc: 0.3007, batch cost: 1.9760, valid acc: 0.2742, valid cost: 2.0449\n",
      "Epoch  1, CIFAR-10 Batch 5:  batch acc: 0.3682, batch cost: 1.9331, valid acc: 0.3104, valid cost: 1.9671\n",
      "Epoch  2, CIFAR-10 Batch 1:  batch acc: 0.3209, batch cost: 1.9236, valid acc: 0.3240, valid cost: 1.9092\n",
      "Epoch  2, CIFAR-10 Batch 2:  batch acc: 0.3209, batch cost: 1.8746, valid acc: 0.3450, valid cost: 1.8450\n",
      "Epoch  2, CIFAR-10 Batch 3:  batch acc: 0.4020, batch cost: 1.7507, valid acc: 0.3656, valid cost: 1.7930\n",
      "Epoch  2, CIFAR-10 Batch 4:  batch acc: 0.4223, batch cost: 1.6844, valid acc: 0.3990, valid cost: 1.7570\n",
      "Epoch  2, CIFAR-10 Batch 5:  batch acc: 0.4561, batch cost: 1.5814, valid acc: 0.4078, valid cost: 1.6643\n",
      "Epoch  3, CIFAR-10 Batch 1:  batch acc: 0.4561, batch cost: 1.6379, valid acc: 0.4232, valid cost: 1.6598\n",
      "Epoch  3, CIFAR-10 Batch 2:  batch acc: 0.4865, batch cost: 1.5398, valid acc: 0.4236, valid cost: 1.5836\n",
      "Epoch  3, CIFAR-10 Batch 3:  batch acc: 0.5372, batch cost: 1.4362, valid acc: 0.4394, valid cost: 1.5641\n",
      "Epoch  3, CIFAR-10 Batch 4:  batch acc: 0.5000, batch cost: 1.4176, valid acc: 0.4746, valid cost: 1.5035\n",
      "Epoch  3, CIFAR-10 Batch 5:  batch acc: 0.5473, batch cost: 1.3618, valid acc: 0.4814, valid cost: 1.4474\n",
      "Epoch  4, CIFAR-10 Batch 1:  batch acc: 0.5439, batch cost: 1.4155, valid acc: 0.4920, valid cost: 1.4338\n",
      "Epoch  4, CIFAR-10 Batch 2:  batch acc: 0.5709, batch cost: 1.3284, valid acc: 0.5040, valid cost: 1.3881\n",
      "Epoch  4, CIFAR-10 Batch 3:  batch acc: 0.6081, batch cost: 1.2163, valid acc: 0.5042, valid cost: 1.3930\n",
      "Epoch  4, CIFAR-10 Batch 4:  batch acc: 0.5203, batch cost: 1.2567, valid acc: 0.5176, valid cost: 1.3854\n",
      "Epoch  4, CIFAR-10 Batch 5:  batch acc: 0.5912, batch cost: 1.2143, valid acc: 0.5246, valid cost: 1.3249\n",
      "Epoch  5, CIFAR-10 Batch 1:  batch acc: 0.5946, batch cost: 1.2879, valid acc: 0.5402, valid cost: 1.3257\n",
      "Epoch  5, CIFAR-10 Batch 2:  batch acc: 0.6284, batch cost: 1.1878, valid acc: 0.5318, valid cost: 1.3216\n",
      "Epoch  5, CIFAR-10 Batch 3:  batch acc: 0.6351, batch cost: 1.0733, valid acc: 0.5508, valid cost: 1.2764\n",
      "Epoch  5, CIFAR-10 Batch 4:  batch acc: 0.5574, batch cost: 1.1119, valid acc: 0.5560, valid cost: 1.2721\n",
      "Epoch  5, CIFAR-10 Batch 5:  batch acc: 0.6182, batch cost: 1.1529, valid acc: 0.5532, valid cost: 1.2781\n",
      "Epoch  6, CIFAR-10 Batch 1:  batch acc: 0.6182, batch cost: 1.1678, valid acc: 0.5668, valid cost: 1.2395\n",
      "Epoch  6, CIFAR-10 Batch 2:  batch acc: 0.6791, batch cost: 1.0909, valid acc: 0.5688, valid cost: 1.2392\n",
      "Epoch  6, CIFAR-10 Batch 3:  batch acc: 0.6757, batch cost: 0.9888, valid acc: 0.5650, valid cost: 1.2227\n",
      "Epoch  6, CIFAR-10 Batch 4:  batch acc: 0.6453, batch cost: 1.0159, valid acc: 0.5766, valid cost: 1.2125\n",
      "Epoch  6, CIFAR-10 Batch 5:  batch acc: 0.6655, batch cost: 1.0451, valid acc: 0.5828, valid cost: 1.1856\n",
      "Epoch  7, CIFAR-10 Batch 1:  batch acc: 0.6520, batch cost: 1.0494, valid acc: 0.5860, valid cost: 1.1666\n",
      "Epoch  7, CIFAR-10 Batch 2:  batch acc: 0.7095, batch cost: 0.9879, valid acc: 0.5924, valid cost: 1.1794\n",
      "Epoch  7, CIFAR-10 Batch 3:  batch acc: 0.7027, batch cost: 0.9430, valid acc: 0.5830, valid cost: 1.1929\n",
      "Epoch  7, CIFAR-10 Batch 4:  batch acc: 0.6791, batch cost: 0.9563, valid acc: 0.5978, valid cost: 1.1613\n",
      "Epoch  7, CIFAR-10 Batch 5:  batch acc: 0.6757, batch cost: 0.9687, valid acc: 0.6062, valid cost: 1.1281\n",
      "Epoch  8, CIFAR-10 Batch 1:  batch acc: 0.6588, batch cost: 0.9843, valid acc: 0.6004, valid cost: 1.1388\n",
      "Epoch  8, CIFAR-10 Batch 2:  batch acc: 0.7196, batch cost: 0.9326, valid acc: 0.6060, valid cost: 1.1305\n",
      "Epoch  8, CIFAR-10 Batch 3:  batch acc: 0.7061, batch cost: 0.8942, valid acc: 0.5930, valid cost: 1.1604\n",
      "Epoch  8, CIFAR-10 Batch 4:  batch acc: 0.7196, batch cost: 0.8656, valid acc: 0.6128, valid cost: 1.0981\n",
      "Epoch  8, CIFAR-10 Batch 5:  batch acc: 0.6993, batch cost: 0.9012, valid acc: 0.6242, valid cost: 1.0848\n",
      "Epoch  9, CIFAR-10 Batch 1:  batch acc: 0.7196, batch cost: 0.9048, valid acc: 0.6238, valid cost: 1.0734\n",
      "Epoch  9, CIFAR-10 Batch 2:  batch acc: 0.7162, batch cost: 0.8951, valid acc: 0.6048, valid cost: 1.1349\n",
      "Epoch  9, CIFAR-10 Batch 3:  batch acc: 0.7399, batch cost: 0.8254, valid acc: 0.6022, valid cost: 1.1238\n",
      "Epoch  9, CIFAR-10 Batch 4:  batch acc: 0.7196, batch cost: 0.8403, valid acc: 0.6184, valid cost: 1.1030\n",
      "Epoch  9, CIFAR-10 Batch 5:  batch acc: 0.7196, batch cost: 0.8244, valid acc: 0.6282, valid cost: 1.0450\n",
      "Epoch 10, CIFAR-10 Batch 1:  batch acc: 0.7162, batch cost: 0.8519, valid acc: 0.6246, valid cost: 1.0630\n",
      "Epoch 10, CIFAR-10 Batch 2:  batch acc: 0.7399, batch cost: 0.8243, valid acc: 0.6070, valid cost: 1.1076\n",
      "Epoch 10, CIFAR-10 Batch 3:  batch acc: 0.7669, batch cost: 0.7373, valid acc: 0.6306, valid cost: 1.0500\n",
      "Epoch 10, CIFAR-10 Batch 4:  batch acc: 0.7635, batch cost: 0.8008, valid acc: 0.6336, valid cost: 1.0541\n",
      "Epoch 10, CIFAR-10 Batch 5:  batch acc: 0.7432, batch cost: 0.8182, valid acc: 0.6416, valid cost: 1.0332\n",
      "Epoch 11, CIFAR-10 Batch 1:  batch acc: 0.7230, batch cost: 0.8147, valid acc: 0.6540, valid cost: 1.0013\n",
      "Epoch 11, CIFAR-10 Batch 2:  batch acc: 0.7669, batch cost: 0.7608, valid acc: 0.6204, valid cost: 1.0948\n",
      "Epoch 11, CIFAR-10 Batch 3:  batch acc: 0.7973, batch cost: 0.7016, valid acc: 0.6416, valid cost: 1.0342\n",
      "Epoch 11, CIFAR-10 Batch 4:  batch acc: 0.7804, batch cost: 0.7036, valid acc: 0.6546, valid cost: 0.9894\n",
      "Epoch 11, CIFAR-10 Batch 5:  batch acc: 0.7601, batch cost: 0.7502, valid acc: 0.6530, valid cost: 1.0091\n",
      "Epoch 12, CIFAR-10 Batch 1:  batch acc: 0.7432, batch cost: 0.7386, valid acc: 0.6596, valid cost: 0.9717\n",
      "Epoch 12, CIFAR-10 Batch 2:  batch acc: 0.7838, batch cost: 0.7046, valid acc: 0.6312, valid cost: 1.0601\n",
      "Epoch 12, CIFAR-10 Batch 3:  batch acc: 0.8007, batch cost: 0.6370, valid acc: 0.6552, valid cost: 0.9989\n",
      "Epoch 12, CIFAR-10 Batch 4:  batch acc: 0.7838, batch cost: 0.6891, valid acc: 0.6478, valid cost: 0.9908\n",
      "Epoch 12, CIFAR-10 Batch 5:  batch acc: 0.7872, batch cost: 0.6751, valid acc: 0.6574, valid cost: 0.9652\n",
      "Epoch 13, CIFAR-10 Batch 1:  batch acc: 0.7872, batch cost: 0.7202, valid acc: 0.6598, valid cost: 0.9977\n",
      "Epoch 13, CIFAR-10 Batch 2:  batch acc: 0.7973, batch cost: 0.6707, valid acc: 0.6510, valid cost: 1.0097\n",
      "Epoch 13, CIFAR-10 Batch 3:  batch acc: 0.8041, batch cost: 0.6169, valid acc: 0.6620, valid cost: 0.9889\n",
      "Epoch 13, CIFAR-10 Batch 4:  batch acc: 0.8108, batch cost: 0.6174, valid acc: 0.6662, valid cost: 0.9510\n",
      "Epoch 13, CIFAR-10 Batch 5:  batch acc: 0.7905, batch cost: 0.6381, valid acc: 0.6494, valid cost: 0.9839\n",
      "Epoch 14, CIFAR-10 Batch 1:  batch acc: 0.7804, batch cost: 0.6724, valid acc: 0.6628, valid cost: 0.9702\n",
      "Epoch 14, CIFAR-10 Batch 2:  batch acc: 0.7736, batch cost: 0.6746, valid acc: 0.6498, valid cost: 1.0090\n",
      "Epoch 14, CIFAR-10 Batch 3:  batch acc: 0.8243, batch cost: 0.5789, valid acc: 0.6676, valid cost: 0.9862\n",
      "Epoch 14, CIFAR-10 Batch 4:  batch acc: 0.7973, batch cost: 0.6091, valid acc: 0.6616, valid cost: 0.9715\n",
      "Epoch 14, CIFAR-10 Batch 5:  batch acc: 0.8176, batch cost: 0.6042, valid acc: 0.6746, valid cost: 0.9443\n",
      "Epoch 15, CIFAR-10 Batch 1:  batch acc: 0.8108, batch cost: 0.6273, valid acc: 0.6754, valid cost: 0.9398\n",
      "Epoch 15, CIFAR-10 Batch 2:  batch acc: 0.8277, batch cost: 0.5794, valid acc: 0.6666, valid cost: 0.9650\n",
      "Epoch 15, CIFAR-10 Batch 3:  batch acc: 0.8142, batch cost: 0.5467, valid acc: 0.6640, valid cost: 0.9776\n",
      "Epoch 15, CIFAR-10 Batch 4:  batch acc: 0.7905, batch cost: 0.6184, valid acc: 0.6564, valid cost: 0.9788\n",
      "Epoch 15, CIFAR-10 Batch 5:  batch acc: 0.8243, batch cost: 0.5576, valid acc: 0.6792, valid cost: 0.9201\n",
      "Epoch 16, CIFAR-10 Batch 1:  batch acc: 0.8108, batch cost: 0.6187, valid acc: 0.6728, valid cost: 0.9407\n",
      "Epoch 16, CIFAR-10 Batch 2:  batch acc: 0.8345, batch cost: 0.5474, valid acc: 0.6792, valid cost: 0.9215\n",
      "Epoch 16, CIFAR-10 Batch 3:  batch acc: 0.8412, batch cost: 0.5255, valid acc: 0.6620, valid cost: 0.9947\n",
      "Epoch 16, CIFAR-10 Batch 4:  batch acc: 0.8209, batch cost: 0.5341, valid acc: 0.6820, valid cost: 0.9258\n",
      "Epoch 16, CIFAR-10 Batch 5:  batch acc: 0.8311, batch cost: 0.5238, valid acc: 0.6816, valid cost: 0.9184\n",
      "Epoch 17, CIFAR-10 Batch 1:  batch acc: 0.8277, batch cost: 0.5396, valid acc: 0.6844, valid cost: 0.9174\n",
      "Epoch 17, CIFAR-10 Batch 2:  batch acc: 0.8615, batch cost: 0.5054, valid acc: 0.6872, valid cost: 0.8944\n",
      "Epoch 17, CIFAR-10 Batch 3:  batch acc: 0.8480, batch cost: 0.4828, valid acc: 0.6668, valid cost: 0.9655\n",
      "Epoch 17, CIFAR-10 Batch 4:  batch acc: 0.8412, batch cost: 0.4843, valid acc: 0.6814, valid cost: 0.9111\n",
      "Epoch 17, CIFAR-10 Batch 5:  batch acc: 0.8818, batch cost: 0.4598, valid acc: 0.6918, valid cost: 0.8984\n",
      "Epoch 18, CIFAR-10 Batch 1:  batch acc: 0.8378, batch cost: 0.5221, valid acc: 0.6866, valid cost: 0.9119\n",
      "Epoch 18, CIFAR-10 Batch 2:  batch acc: 0.8682, batch cost: 0.4899, valid acc: 0.6886, valid cost: 0.9006\n",
      "Epoch 18, CIFAR-10 Batch 3:  batch acc: 0.8682, batch cost: 0.4322, valid acc: 0.6812, valid cost: 0.9305\n",
      "Epoch 18, CIFAR-10 Batch 4:  batch acc: 0.8480, batch cost: 0.4522, valid acc: 0.6834, valid cost: 0.9214\n",
      "Epoch 18, CIFAR-10 Batch 5:  batch acc: 0.8615, batch cost: 0.4283, valid acc: 0.6960, valid cost: 0.8866\n",
      "Epoch 19, CIFAR-10 Batch 1:  batch acc: 0.8514, batch cost: 0.5004, valid acc: 0.6872, valid cost: 0.9147\n",
      "Epoch 19, CIFAR-10 Batch 2:  batch acc: 0.8716, batch cost: 0.4777, valid acc: 0.6888, valid cost: 0.9038\n",
      "Epoch 19, CIFAR-10 Batch 3:  batch acc: 0.8615, batch cost: 0.4280, valid acc: 0.6860, valid cost: 0.9195\n",
      "Epoch 19, CIFAR-10 Batch 4:  batch acc: 0.8682, batch cost: 0.4328, valid acc: 0.6874, valid cost: 0.9045\n",
      "Epoch 19, CIFAR-10 Batch 5:  batch acc: 0.8818, batch cost: 0.4199, valid acc: 0.6898, valid cost: 0.9021\n",
      "Epoch 20, CIFAR-10 Batch 1:  batch acc: 0.8547, batch cost: 0.4892, valid acc: 0.6858, valid cost: 0.9088\n",
      "Epoch 20, CIFAR-10 Batch 2:  batch acc: 0.8649, batch cost: 0.4489, valid acc: 0.6912, valid cost: 0.9098\n",
      "Epoch 20, CIFAR-10 Batch 3:  batch acc: 0.8851, batch cost: 0.4130, valid acc: 0.6804, valid cost: 0.9331\n",
      "Epoch 20, CIFAR-10 Batch 4:  batch acc: 0.8682, batch cost: 0.4163, valid acc: 0.6912, valid cost: 0.9030\n",
      "Epoch 20, CIFAR-10 Batch 5:  batch acc: 0.9020, batch cost: 0.3806, valid acc: 0.6936, valid cost: 0.9004\n",
      "Epoch 21, CIFAR-10 Batch 1:  batch acc: 0.8818, batch cost: 0.4660, valid acc: 0.6924, valid cost: 0.9076\n",
      "Epoch 21, CIFAR-10 Batch 2:  batch acc: 0.8818, batch cost: 0.4247, valid acc: 0.6882, valid cost: 0.9222\n",
      "Epoch 21, CIFAR-10 Batch 3:  batch acc: 0.8986, batch cost: 0.3790, valid acc: 0.6838, valid cost: 0.9212\n",
      "Epoch 21, CIFAR-10 Batch 4:  batch acc: 0.8750, batch cost: 0.3958, valid acc: 0.6908, valid cost: 0.9138\n",
      "Epoch 21, CIFAR-10 Batch 5:  batch acc: 0.9189, batch cost: 0.3333, valid acc: 0.7048, valid cost: 0.8782\n",
      "Epoch 22, CIFAR-10 Batch 1:  batch acc: 0.8682, batch cost: 0.4475, valid acc: 0.6880, valid cost: 0.9334\n",
      "Epoch 22, CIFAR-10 Batch 2:  batch acc: 0.8784, batch cost: 0.4072, valid acc: 0.6886, valid cost: 0.9196\n",
      "Epoch 22, CIFAR-10 Batch 3:  batch acc: 0.9088, batch cost: 0.3643, valid acc: 0.6882, valid cost: 0.9201\n",
      "Epoch 22, CIFAR-10 Batch 4:  batch acc: 0.8885, batch cost: 0.3889, valid acc: 0.6956, valid cost: 0.8964\n",
      "Epoch 22, CIFAR-10 Batch 5:  batch acc: 0.9020, batch cost: 0.3460, valid acc: 0.7056, valid cost: 0.8855\n",
      "Epoch 23, CIFAR-10 Batch 1:  batch acc: 0.8851, batch cost: 0.4219, valid acc: 0.6968, valid cost: 0.9056\n",
      "Epoch 23, CIFAR-10 Batch 2:  batch acc: 0.8716, batch cost: 0.3840, valid acc: 0.6906, valid cost: 0.9242\n",
      "Epoch 23, CIFAR-10 Batch 3:  batch acc: 0.9122, batch cost: 0.3409, valid acc: 0.6880, valid cost: 0.9367\n",
      "Epoch 23, CIFAR-10 Batch 4:  batch acc: 0.8818, batch cost: 0.4125, valid acc: 0.6714, valid cost: 0.9692\n",
      "Epoch 23, CIFAR-10 Batch 5:  batch acc: 0.9189, batch cost: 0.3433, valid acc: 0.6968, valid cost: 0.9158\n",
      "Epoch 24, CIFAR-10 Batch 1:  batch acc: 0.8986, batch cost: 0.3913, valid acc: 0.6976, valid cost: 0.9051\n",
      "Epoch 24, CIFAR-10 Batch 2:  batch acc: 0.8784, batch cost: 0.3899, valid acc: 0.6868, valid cost: 0.9545\n",
      "Epoch 24, CIFAR-10 Batch 3:  batch acc: 0.9257, batch cost: 0.3276, valid acc: 0.6868, valid cost: 0.9413\n",
      "Epoch 24, CIFAR-10 Batch 4:  batch acc: 0.8682, batch cost: 0.3819, valid acc: 0.6828, valid cost: 0.9303\n",
      "Epoch 24, CIFAR-10 Batch 5:  batch acc: 0.9020, batch cost: 0.3487, valid acc: 0.6920, valid cost: 0.9070\n",
      "Epoch 25, CIFAR-10 Batch 1:  batch acc: 0.8818, batch cost: 0.4046, valid acc: 0.7000, valid cost: 0.8851\n",
      "Epoch 25, CIFAR-10 Batch 2:  batch acc: 0.8986, batch cost: 0.3389, valid acc: 0.6996, valid cost: 0.9224\n",
      "Epoch 25, CIFAR-10 Batch 3:  batch acc: 0.9189, batch cost: 0.3051, valid acc: 0.6828, valid cost: 0.9734\n",
      "Epoch 25, CIFAR-10 Batch 4:  batch acc: 0.8615, batch cost: 0.4027, valid acc: 0.6790, valid cost: 0.9527\n",
      "Epoch 25, CIFAR-10 Batch 5:  batch acc: 0.9155, batch cost: 0.3000, valid acc: 0.6960, valid cost: 0.8887\n"
     ]
    }
   ],
   "source": [
    "\"\"\"\n",
    "DON'T MODIFY ANYTHING IN THIS CELL\n",
    "\"\"\"\n",
    "save_model_path = './image_classification'\n",
    "\n",
    "print('Training...')\n",
    "with tf.Session() as sess:\n",
    "    # Initializing the variables\n",
    "    sess.run(tf.global_variables_initializer())\n",
    "    \n",
    "    # Training cycle\n",
    "    for epoch in range(epochs):\n",
    "        # Loop over all batches\n",
    "        n_batches = 5\n",
    "        for batch_i in range(1, n_batches + 1):\n",
    "            for batch_features, batch_labels in helper.load_preprocess_training_batch(batch_i, batch_size):\n",
    "                train_neural_network(sess, optimizer, keep_probability, batch_features, batch_labels)\n",
    "            print('Epoch {:>2}, CIFAR-10 Batch {}:  '.format(epoch + 1, batch_i), end='')\n",
    "            print_stats(sess, batch_features, batch_labels, cost, accuracy)\n",
    "            \n",
    "    # Save Model\n",
    "    saver = tf.train.Saver()\n",
    "    save_path = saver.save(sess, save_model_path)"
   ]
  },
  {
   "cell_type": "markdown",
   "metadata": {
    "deletable": true,
    "editable": true
   },
   "source": [
    "# Checkpoint\n",
    "The model has been saved to disk.\n",
    "## Test Model\n",
    "Test your model against the test dataset.  This will be your final accuracy. You should have an accuracy greater than 50%. If you don't, keep tweaking the model architecture and parameters."
   ]
  },
  {
   "cell_type": "code",
   "execution_count": 18,
   "metadata": {
    "collapsed": false,
    "deletable": true,
    "editable": true
   },
   "outputs": [
    {
     "name": "stdout",
     "output_type": "stream",
     "text": [
      "Testing Accuracy: 0.6953584551811218\n",
      "\n"
     ]
    },
    {
     "data": {
      "image/png": "[encoded data removed]",
      "text/plain": [
       "<matplotlib.figure.Figure at 0x7fc89419a978>"
      ]
     },
     "metadata": {
      "image/png": {
       "height": 319,
       "width": 355
      }
     },
     "output_type": "display_data"
    }
   ],
   "source": [
    "\"\"\"\n",
    "DON'T MODIFY ANYTHING IN THIS CELL\n",
    "\"\"\"\n",
    "%matplotlib inline\n",
    "%config InlineBackend.figure_format = 'retina'\n",
    "\n",
    "import tensorflow as tf\n",
    "import pickle\n",
    "import helper\n",
    "import random\n",
    "\n",
    "# Set batch size if not already set\n",
    "try:\n",
    "    if batch_size:\n",
    "        pass\n",
    "except NameError:\n",
    "    batch_size = 64\n",
    "\n",
    "save_model_path = './image_classification'\n",
    "n_samples = 4\n",
    "top_n_predictions = 3\n",
    "\n",
    "def test_model():\n",
    "    \"\"\"\n",
    "    Test the saved model against the test dataset\n",
    "    \"\"\"\n",
    "\n",
    "    test_features, test_labels = pickle.load(open('preprocess_test.p', mode='rb'))\n",
    "    loaded_graph = tf.Graph()\n",
    "\n",
    "    with tf.Session(graph=loaded_graph) as sess:\n",
    "        # Load model\n",
    "        loader = tf.train.import_meta_graph(save_model_path + '.meta')\n",
    "        loader.restore(sess, save_model_path)\n",
    "\n",
    "        # Get Tensors from loaded model\n",
    "        loaded_x = loaded_graph.get_tensor_by_name('x:0')\n",
    "        loaded_y = loaded_graph.get_tensor_by_name('y:0')\n",
    "        loaded_keep_prob = loaded_graph.get_tensor_by_name('keep_prob:0')\n",
    "        loaded_logits = loaded_graph.get_tensor_by_name('logits:0')\n",
    "        loaded_acc = loaded_graph.get_tensor_by_name('accuracy:0')\n",
    "        \n",
    "        # Get accuracy in batches for memory limitations\n",
    "        test_batch_acc_total = 0\n",
    "        test_batch_count = 0\n",
    "        \n",
    "        for test_feature_batch, test_label_batch in helper.batch_features_labels(test_features, test_labels, batch_size):\n",
    "            test_batch_acc_total += sess.run(\n",
    "                loaded_acc,\n",
    "                feed_dict={loaded_x: test_feature_batch, loaded_y: test_label_batch, loaded_keep_prob: 1.0})\n",
    "            test_batch_count += 1\n",
    "\n",
    "        print('Testing Accuracy: {}\\n'.format(test_batch_acc_total/test_batch_count))\n",
    "\n",
    "        # Print Random Samples\n",
    "        random_test_features, random_test_labels = tuple(zip(*random.sample(list(zip(test_features, test_labels)), n_samples)))\n",
    "        random_test_predictions = sess.run(\n",
    "            tf.nn.top_k(tf.nn.softmax(loaded_logits), top_n_predictions),\n",
    "            feed_dict={loaded_x: random_test_features, loaded_y: random_test_labels, loaded_keep_prob: 1.0})\n",
    "        helper.display_image_predictions(random_test_features, random_test_labels, random_test_predictions)\n",
    "\n",
    "\n",
    "test_model()"
   ]
  },
  {
   "cell_type": "markdown",
   "metadata": {
    "deletable": true,
    "editable": true
   },
   "source": [
    "## Why 50-80% Accuracy?\n",
    "You might be wondering why you can't get an accuracy any higher. First things first, 50% isn't bad for a simple CNN.  Pure guessing would get you 10% accuracy. However, you might notice people are getting scores [well above 80%](http://rodrigob.github.io/are_we_there_yet/build/classification_datasets_results.html#43494641522d3130).  That's because we haven't taught you all there is to know about neural networks. We still need to cover a few more techniques.\n",
    "## Submitting This Project\n",
    "When submitting this project, make sure to run all the cells before saving the notebook.  Save the notebook file as \"dlnd_image_classification.ipynb\" and save it as a HTML file under \"File\" -> \"Download as\".  Include the \"helper.py\" and \"problem_unittests.py\" files in your submission."
   ]
  }
 ],
 "metadata": {
  "anaconda-cloud": {},
  "kernelspec": {
   "display_name": "Python 3",
   "language": "python",
   "name": "python3"
  },
  "language_info": {
   "codemirror_mode": {
    "name": "ipython",
    "version": 3
   },
   "file_extension": ".py",
   "mimetype": "text/x-python",
   "name": "python",
   "nbconvert_exporter": "python",
   "pygments_lexer": "ipython3",
   "version": "3.5.3"
  }
 },
 "nbformat": 4,
 "nbformat_minor": 0
}
