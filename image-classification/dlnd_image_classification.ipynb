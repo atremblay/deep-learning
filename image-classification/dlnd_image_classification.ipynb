{
 "cells": [
  {
   "cell_type": "markdown",
   "metadata": {
    "collapsed": true,
    "deletable": true,
    "editable": true
   },
   "source": [
    "# Image Classification\n",
    "In this project, you'll classify images from the [CIFAR-10 dataset](https://www.cs.toronto.edu/~kriz/cifar.html).  The dataset consists of airplanes, dogs, cats, and other objects. You'll preprocess the images, then train a convolutional neural network on all the samples. The images need to be normalized and the labels need to be one-hot encoded.  You'll get to apply what you learned and build a convolutional, max pooling, dropout, and fully connected layers.  At the end, you'll get to see your neural network's predictions on the sample images.\n",
    "## Get the Data\n",
    "Run the following cell to download the [CIFAR-10 dataset for python](https://www.cs.toronto.edu/~kriz/cifar-10-python.tar.gz)."
   ]
  },
  {
   "cell_type": "code",
   "execution_count": 1,
   "metadata": {
    "collapsed": false,
    "deletable": true,
    "editable": true
   },
   "outputs": [
    {
     "name": "stderr",
     "output_type": "stream",
     "text": [
      "CIFAR-10 Dataset: 171MB [00:40, 4.24MB/s]                              \n"
     ]
    },
    {
     "name": "stdout",
     "output_type": "stream",
     "text": [
      "All files found!\n"
     ]
    }
   ],
   "source": [
    "\"\"\"\n",
    "DON'T MODIFY ANYTHING IN THIS CELL THAT IS BELOW THIS LINE\n",
    "\"\"\"\n",
    "from urllib.request import urlretrieve\n",
    "from os.path import isfile, isdir\n",
    "from tqdm import tqdm\n",
    "import problem_unittests as tests\n",
    "import tarfile\n",
    "\n",
    "cifar10_dataset_folder_path = 'cifar-10-batches-py'\n",
    "\n",
    "class DLProgress(tqdm):\n",
    "    last_block = 0\n",
    "\n",
    "    def hook(self, block_num=1, block_size=1, total_size=None):\n",
    "        self.total = total_size\n",
    "        self.update((block_num - self.last_block) * block_size)\n",
    "        self.last_block = block_num\n",
    "\n",
    "if not isfile('cifar-10-python.tar.gz'):\n",
    "    with DLProgress(unit='B', unit_scale=True, miniters=1, desc='CIFAR-10 Dataset') as pbar:\n",
    "        urlretrieve(\n",
    "            'https://www.cs.toronto.edu/~kriz/cifar-10-python.tar.gz',\n",
    "            'cifar-10-python.tar.gz',\n",
    "            pbar.hook)\n",
    "\n",
    "if not isdir(cifar10_dataset_folder_path):\n",
    "    with tarfile.open('cifar-10-python.tar.gz') as tar:\n",
    "        tar.extractall()\n",
    "        tar.close()\n",
    "\n",
    "\n",
    "tests.test_folder_path(cifar10_dataset_folder_path)"
   ]
  },
  {
   "cell_type": "markdown",
   "metadata": {
    "deletable": true,
    "editable": true
   },
   "source": [
    "## Explore the Data\n",
    "The dataset is broken into batches to prevent your machine from running out of memory.  The CIFAR-10 dataset consists of 5 batches, named `data_batch_1`, `data_batch_2`, etc.. Each batch contains the labels and images that are one of the following:\n",
    "* airplane\n",
    "* automobile\n",
    "* bird\n",
    "* cat\n",
    "* deer\n",
    "* dog\n",
    "* frog\n",
    "* horse\n",
    "* ship\n",
    "* truck\n",
    "\n",
    "Understanding a dataset is part of making predictions on the data.  Play around with the code cell below by changing the `batch_id` and `sample_id`. The `batch_id` is the id for a batch (1-5). The `sample_id` is the id for a image and label pair in the batch.\n",
    "\n",
    "Ask yourself \"What are all possible labels?\", \"What is the range of values for the image data?\", \"Are the labels in order or random?\".  Answers to questions like these will help you preprocess the data and end up with better predictions."
   ]
  },
  {
   "cell_type": "code",
   "execution_count": 2,
   "metadata": {
    "collapsed": false,
    "deletable": true,
    "editable": true
   },
   "outputs": [
    {
     "name": "stdout",
     "output_type": "stream",
     "text": [
      "\n",
      "Stats of batch 5:\n",
      "Samples: 10000\n",
      "Label Counts: {0: 1014, 1: 1014, 2: 952, 3: 1016, 4: 997, 5: 1025, 6: 980, 7: 977, 8: 1003, 9: 1022}\n",
      "First 20 Labels: [1, 8, 5, 1, 5, 7, 4, 3, 8, 2, 7, 2, 0, 1, 5, 9, 6, 2, 0, 8]\n",
      "\n",
      "Example of Image 5:\n",
      "Image - Min Value: 1 Max Value: 255\n",
      "Image - Shape: (32, 32, 3)\n",
      "Label - Label Id: 7 Name: horse\n"
     ]
    },
    {
     "data": {
      "image/png": "[encoded data removed]",
      "text/plain": [
       "<matplotlib.figure.Figure at 0x7f8b9d713fd0>"
      ]
     },
     "metadata": {
      "image/png": {
       "height": 250,
       "width": 253
      }
     },
     "output_type": "display_data"
    }
   ],
   "source": [
    "%matplotlib inline\n",
    "%config InlineBackend.figure_format = 'retina'\n",
    "\n",
    "import helper\n",
    "import numpy as np\n",
    "\n",
    "# Explore the dataset\n",
    "batch_id = 5\n",
    "sample_id = 5\n",
    "helper.display_stats(cifar10_dataset_folder_path, batch_id, sample_id)"
   ]
  },
  {
   "cell_type": "markdown",
   "metadata": {
    "deletable": true,
    "editable": true
   },
   "source": [
    "## Implement Preprocess Functions\n",
    "### Normalize\n",
    "In the cell below, implement the `normalize` function to take in image data, `x`, and return it as a normalized Numpy array. The values should be in the range of 0 to 1, inclusive.  The return object should be the same shape as `x`."
   ]
  },
  {
   "cell_type": "code",
   "execution_count": 3,
   "metadata": {
    "collapsed": false,
    "deletable": true,
    "editable": true
   },
   "outputs": [
    {
     "name": "stdout",
     "output_type": "stream",
     "text": [
      "Tests Passed\n"
     ]
    }
   ],
   "source": [
    "def normalize(x):\n",
    "    \"\"\"\n",
    "    Normalize a list of sample image data in the range of 0 to 1\n",
    "    : x: List of image data.  The image shape is (32, 32, 3)\n",
    "    : return: Numpy array of normalize data\n",
    "    \"\"\"\n",
    "    # TODO: Implement Function\n",
    "    return x/255.\n",
    "\n",
    "\n",
    "\"\"\"\n",
    "DON'T MODIFY ANYTHING IN THIS CELL THAT IS BELOW THIS LINE\n",
    "\"\"\"\n",
    "tests.test_normalize(normalize)"
   ]
  },
  {
   "cell_type": "markdown",
   "metadata": {
    "deletable": true,
    "editable": true
   },
   "source": [
    "### One-hot encode\n",
    "Just like the previous code cell, you'll be implementing a function for preprocessing.  This time, you'll implement the `one_hot_encode` function. The input, `x`, are a list of labels.  Implement the function to return the list of labels as One-Hot encoded Numpy array.  The possible values for labels are 0 to 9. The one-hot encoding function should return the same encoding for each value between each call to `one_hot_encode`.  Make sure to save the map of encodings outside the function.\n",
    "\n",
    "Hint: Don't reinvent the wheel."
   ]
  },
  {
   "cell_type": "code",
   "execution_count": 4,
   "metadata": {
    "collapsed": false,
    "deletable": true,
    "editable": true
   },
   "outputs": [
    {
     "name": "stdout",
     "output_type": "stream",
     "text": [
      "Tests Passed\n"
     ]
    }
   ],
   "source": [
    "label_to_index = {}\n",
    "def one_hot_encode(x):\n",
    "    \"\"\"\n",
    "    One hot encode a list of sample labels. Return a one-hot encoded vector for each label.\n",
    "    : x: List of sample Labels\n",
    "    : return: Numpy array of one-hot encoded labels\n",
    "    \"\"\"\n",
    "    # TODO: Implement Function\n",
    "    one_hot = []\n",
    "    for label in x:\n",
    "        if label not in label_to_index:\n",
    "            label_to_index[label] = len(label_to_index)\n",
    "        one_hot.append(np.zeros(10))\n",
    "        one_hot[-1][label_to_index[label]] = 1\n",
    "    return np.array(one_hot)\n",
    "\n",
    "\n",
    "\"\"\"\n",
    "DON'T MODIFY ANYTHING IN THIS CELL THAT IS BELOW THIS LINE\n",
    "\"\"\"\n",
    "tests.test_one_hot_encode(one_hot_encode)"
   ]
  },
  {
   "cell_type": "markdown",
   "metadata": {
    "deletable": true,
    "editable": true
   },
   "source": [
    "### Randomize Data\n",
    "As you saw from exploring the data above, the order of the samples are randomized.  It doesn't hurt to randomize it again, but you don't need to for this dataset."
   ]
  },
  {
   "cell_type": "markdown",
   "metadata": {
    "deletable": true,
    "editable": true
   },
   "source": [
    "## Preprocess all the data and save it\n",
    "Running the code cell below will preprocess all the CIFAR-10 data and save it to file. The code below also uses 10% of the training data for validation."
   ]
  },
  {
   "cell_type": "code",
   "execution_count": 5,
   "metadata": {
    "collapsed": false,
    "deletable": true,
    "editable": true
   },
   "outputs": [],
   "source": [
    "\"\"\"\n",
    "DON'T MODIFY ANYTHING IN THIS CELL\n",
    "\"\"\"\n",
    "# Preprocess Training, Validation, and Testing Data\n",
    "helper.preprocess_and_save_data(cifar10_dataset_folder_path, normalize, one_hot_encode)"
   ]
  },
  {
   "cell_type": "markdown",
   "metadata": {
    "deletable": true,
    "editable": true
   },
   "source": [
    "# Check Point\n",
    "This is your first checkpoint.  If you ever decide to come back to this notebook or have to restart the notebook, you can start from here.  The preprocessed data has been saved to disk."
   ]
  },
  {
   "cell_type": "code",
   "execution_count": 6,
   "metadata": {
    "collapsed": true,
    "deletable": true,
    "editable": true
   },
   "outputs": [],
   "source": [
    "\"\"\"\n",
    "DON'T MODIFY ANYTHING IN THIS CELL\n",
    "\"\"\"\n",
    "import pickle\n",
    "import problem_unittests as tests\n",
    "import helper\n",
    "\n",
    "# Load the Preprocessed Validation data\n",
    "valid_features, valid_labels = pickle.load(open('preprocess_validation.p', mode='rb'))"
   ]
  },
  {
   "cell_type": "markdown",
   "metadata": {
    "deletable": true,
    "editable": true
   },
   "source": [
    "## Build the network\n",
    "For the neural network, you'll build each layer into a function.  Most of the code you've seen has been outside of functions. To test your code more thoroughly, we require that you put each layer in a function.  This allows us to give you better feedback and test for simple mistakes using our unittests before you submit your project.\n",
    "\n",
    "If you're finding it hard to dedicate enough time for this course a week, we've provided a small shortcut to this part of the project. In the next couple of problems, you'll have the option to use [TensorFlow Layers](https://www.tensorflow.org/api_docs/python/tf/layers) or [TensorFlow Layers (contrib)](https://www.tensorflow.org/api_guides/python/contrib.layers) to build each layer, except \"Convolutional & Max Pooling\" layer.  TF Layers is similar to Keras's and TFLearn's abstraction to layers, so it's easy to pickup.\n",
    "\n",
    "If you would like to get the most of this course, try to solve all the problems without TF Layers.  Let's begin!\n",
    "### Input\n",
    "The neural network needs to read the image data, one-hot encoded labels, and dropout keep probability. Implement the following functions\n",
    "* Implement `neural_net_image_input`\n",
    " * Return a [TF Placeholder](https://www.tensorflow.org/api_docs/python/tf/placeholder)\n",
    " * Set the shape using `image_shape` with batch size set to `None`.\n",
    " * Name the TensorFlow placeholder \"x\" using the TensorFlow `name` parameter in the [TF Placeholder](https://www.tensorflow.org/api_docs/python/tf/placeholder).\n",
    "* Implement `neural_net_label_input`\n",
    " * Return a [TF Placeholder](https://www.tensorflow.org/api_docs/python/tf/placeholder)\n",
    " * Set the shape using `n_classes` with batch size set to `None`.\n",
    " * Name the TensorFlow placeholder \"y\" using the TensorFlow `name` parameter in the [TF Placeholder](https://www.tensorflow.org/api_docs/python/tf/placeholder).\n",
    "* Implement `neural_net_keep_prob_input`\n",
    " * Return a [TF Placeholder](https://www.tensorflow.org/api_docs/python/tf/placeholder) for dropout keep probability.\n",
    " * Name the TensorFlow placeholder \"keep_prob\" using the TensorFlow `name` parameter in the [TF Placeholder](https://www.tensorflow.org/api_docs/python/tf/placeholder).\n",
    "\n",
    "These names will be used at the end of the project to load your saved model.\n",
    "\n",
    "Note: `None` for shapes in TensorFlow allow for a dynamic size."
   ]
  },
  {
   "cell_type": "code",
   "execution_count": 7,
   "metadata": {
    "collapsed": false,
    "deletable": true,
    "editable": true
   },
   "outputs": [
    {
     "name": "stdout",
     "output_type": "stream",
     "text": [
      "Image Input Tests Passed.\n",
      "Label Input Tests Passed.\n",
      "Keep Prob Tests Passed.\n"
     ]
    }
   ],
   "source": [
    "import tensorflow as tf\n",
    "\n",
    "def neural_net_image_input(image_shape):\n",
    "    \"\"\"\n",
    "    Return a Tensor for a batch of image input\n",
    "    : image_shape: Shape of the images\n",
    "    : return: Tensor for image input.\n",
    "    \"\"\"\n",
    "    # TODO: Implement Function\n",
    "    return tf.placeholder(shape=[None, *image_shape], name='x', dtype=tf.float32)\n",
    "\n",
    "\n",
    "def neural_net_label_input(n_classes):\n",
    "    \"\"\"\n",
    "    Return a Tensor for a batch of label input\n",
    "    : n_classes: Number of classes\n",
    "    : return: Tensor for label input.\n",
    "    \"\"\"\n",
    "    # TODO: Implement Function\n",
    "    return tf.placeholder(shape=[None, n_classes], name='y', dtype=tf.float32)\n",
    "\n",
    "\n",
    "def neural_net_keep_prob_input():\n",
    "    \"\"\"\n",
    "    Return a Tensor for keep probability\n",
    "    : return: Tensor for keep probability.\n",
    "    \"\"\"\n",
    "    # TODO: Implement Function\n",
    "    return tf.placeholder(name=\"keep_prob\", dtype=tf.float32)\n",
    "\n",
    "\n",
    "\"\"\"\n",
    "DON'T MODIFY ANYTHING IN THIS CELL THAT IS BELOW THIS LINE\n",
    "\"\"\"\n",
    "tf.reset_default_graph()\n",
    "tests.test_nn_image_inputs(neural_net_image_input)\n",
    "tests.test_nn_label_inputs(neural_net_label_input)\n",
    "tests.test_nn_keep_prob_inputs(neural_net_keep_prob_input)"
   ]
  },
  {
   "cell_type": "markdown",
   "metadata": {
    "deletable": true,
    "editable": true
   },
   "source": [
    "### Convolution and Max Pooling Layer\n",
    "Convolution layers have a lot of success with images. For this code cell, you should implement the function `conv2d_maxpool` to apply convolution then max pooling:\n",
    "* Create the weight and bias using `conv_ksize`, `conv_num_outputs` and the shape of `x_tensor`.\n",
    "* Apply a convolution to `x_tensor` using weight and `conv_strides`.\n",
    " * We recommend you use same padding, but you're welcome to use any padding.\n",
    "* Add bias\n",
    "* Add a nonlinear activation to the convolution.\n",
    "* Apply Max Pooling using `pool_ksize` and `pool_strides`.\n",
    " * We recommend you use same padding, but you're welcome to use any padding.\n",
    "\n",
    "Note: You **can't** use [TensorFlow Layers](https://www.tensorflow.org/api_docs/python/tf/layers) or [TensorFlow Layers (contrib)](https://www.tensorflow.org/api_guides/python/contrib.layers) for this layer.  You're free to use any TensorFlow package for all the other layers."
   ]
  },
  {
   "cell_type": "code",
   "execution_count": 8,
   "metadata": {
    "collapsed": false,
    "deletable": true,
    "editable": true
   },
   "outputs": [
    {
     "name": "stdout",
     "output_type": "stream",
     "text": [
      "Tests Passed\n"
     ]
    }
   ],
   "source": [
    "def conv2d_maxpool(x_tensor, conv_num_outputs, conv_ksize, conv_strides, pool_ksize, pool_strides):\n",
    "    \"\"\"\n",
    "    Apply convolution then max pooling to x_tensor\n",
    "    :param x_tensor: TensorFlow Tensor\n",
    "    :param conv_num_outputs: Number of outputs for the convolutional layer\n",
    "    :param conv_strides: Stride 2-D Tuple for convolution\n",
    "    :param pool_ksize: kernal size 2-D Tuple for pool\n",
    "    :param pool_strides: Stride 2-D Tuple for pool\n",
    "    : return: A tensor that represents convolution and max pooling of x_tensor\n",
    "    \"\"\"\n",
    "    # TODO: Implement Function\n",
    "    depth = x_tensor.get_shape().as_list()[-1]\n",
    "    F_W = tf.Variable(tf.truncated_normal((*conv_ksize, depth, conv_num_outputs), stddev=0.1))\n",
    "    F_b = tf.Variable(tf.zeros(conv_num_outputs))\n",
    "    strides = [1, *conv_strides, 1]\n",
    "    padding = 'SAME'\n",
    "    conv_layer = tf.nn.conv2d(x_tensor, F_W, strides=strides, padding=padding)\n",
    "    conv_layer = tf.nn.bias_add(conv_layer, F_b)\n",
    "    \n",
    "\n",
    "    conv_layer = tf.nn.max_pool(\n",
    "        conv_layer,\n",
    "        ksize=[1, *pool_ksize, 1],\n",
    "        strides=[1, *pool_strides, 1],\n",
    "        padding='SAME')\n",
    "\n",
    "    return tf.nn.relu(conv_layer)\n",
    "\n",
    "\"\"\"\n",
    "DON'T MODIFY ANYTHING IN THIS CELL THAT IS BELOW THIS LINE\n",
    "\"\"\"\n",
    "tests.test_con_pool(conv2d_maxpool)"
   ]
  },
  {
   "cell_type": "markdown",
   "metadata": {
    "deletable": true,
    "editable": true
   },
   "source": [
    "### Flatten Layer\n",
    "Implement the `flatten` function to change the dimension of `x_tensor` from a 4-D tensor to a 2-D tensor.  The output should be the shape (*Batch Size*, *Flattened Image Size*). You can use [TensorFlow Layers](https://www.tensorflow.org/api_docs/python/tf/layers) or [TensorFlow Layers (contrib)](https://www.tensorflow.org/api_guides/python/contrib.layers) for this layer."
   ]
  },
  {
   "cell_type": "code",
   "execution_count": 9,
   "metadata": {
    "collapsed": false,
    "deletable": true,
    "editable": true
   },
   "outputs": [
    {
     "name": "stdout",
     "output_type": "stream",
     "text": [
      "Tests Passed\n"
     ]
    }
   ],
   "source": [
    "def flatten(x_tensor):\n",
    "    \"\"\"\n",
    "    Flatten x_tensor to (Batch Size, Flattened Image Size)\n",
    "    : x_tensor: A tensor of size (Batch Size, ...), where ... are the image dimensions.\n",
    "    : return: A tensor of size (Batch Size, Flattened Image Size).\n",
    "    \"\"\"\n",
    "    # TODO: Implement Function\n",
    "    dim = x_tensor.get_shape().as_list()\n",
    "    return tf.reshape(x_tensor, shape=[-1, dim[1]*dim[2]*dim[3]])\n",
    "\n",
    "\n",
    "\"\"\"\n",
    "DON'T MODIFY ANYTHING IN THIS CELL THAT IS BELOW THIS LINE\n",
    "\"\"\"\n",
    "tests.test_flatten(flatten)"
   ]
  },
  {
   "cell_type": "markdown",
   "metadata": {
    "deletable": true,
    "editable": true
   },
   "source": [
    "### Fully-Connected Layer\n",
    "Implement the `fully_conn` function to apply a fully connected layer to `x_tensor` with the shape (*Batch Size*, *num_outputs*). You can use [TensorFlow Layers](https://www.tensorflow.org/api_docs/python/tf/layers) or [TensorFlow Layers (contrib)](https://www.tensorflow.org/api_guides/python/contrib.layers) for this layer."
   ]
  },
  {
   "cell_type": "code",
   "execution_count": 10,
   "metadata": {
    "collapsed": false,
    "deletable": true,
    "editable": true
   },
   "outputs": [
    {
     "name": "stdout",
     "output_type": "stream",
     "text": [
      "Tests Passed\n"
     ]
    }
   ],
   "source": [
    "def fully_conn(x_tensor, num_outputs):\n",
    "    \"\"\"\n",
    "    Apply a fully connected layer to x_tensor using weight and bias\n",
    "    : x_tensor: A 2-D tensor where the first dimension is batch size.\n",
    "    : num_outputs: The number of output that the new tensor should be.\n",
    "    : return: A 2-D tensor where the second dimension is num_outputs.\n",
    "    \"\"\"\n",
    "    # TODO: Implement Function\n",
    "    dim = x_tensor.get_shape().as_list()\n",
    "    W = tf.Variable(tf.truncated_normal((dim[1], num_outputs), stddev=0.1))\n",
    "    b = tf.Variable(tf.zeros(num_outputs))\n",
    "    return tf.nn.relu(tf.add(tf.matmul(x_tensor, W), b))\n",
    "\n",
    "#     or the easier version\n",
    "#     return tf.layers.dense(x_tensor, num_outputs)\n",
    "\n",
    "\n",
    "\"\"\"\n",
    "DON'T MODIFY ANYTHING IN THIS CELL THAT IS BELOW THIS LINE\n",
    "\"\"\"\n",
    "tests.test_fully_conn(fully_conn)"
   ]
  },
  {
   "cell_type": "markdown",
   "metadata": {
    "deletable": true,
    "editable": true
   },
   "source": [
    "### Output Layer\n",
    "Implement the `output` function to apply a fully connected layer to `x_tensor` with the shape (*Batch Size*, *num_outputs*). You can use [TensorFlow Layers](https://www.tensorflow.org/api_docs/python/tf/layers) or [TensorFlow Layers (contrib)](https://www.tensorflow.org/api_guides/python/contrib.layers) for this layer.\n",
    "\n",
    "Note: Activation, softmax, or cross entropy shouldn't be applied to this."
   ]
  },
  {
   "cell_type": "code",
   "execution_count": 11,
   "metadata": {
    "collapsed": false,
    "deletable": true,
    "editable": true
   },
   "outputs": [
    {
     "name": "stdout",
     "output_type": "stream",
     "text": [
      "Tests Passed\n"
     ]
    }
   ],
   "source": [
    "def output(x_tensor, num_outputs):\n",
    "    \"\"\"\n",
    "    Apply a output layer to x_tensor using weight and bias\n",
    "    : x_tensor: A 2-D tensor where the first dimension is batch size.\n",
    "    : num_outputs: The number of output that the new tensor should be.\n",
    "    : return: A 2-D tensor where the second dimension is num_outputs.\n",
    "    \"\"\"\n",
    "    # TODO: Implement Function\n",
    "    dim = x_tensor.get_shape().as_list()\n",
    "    W = tf.Variable(tf.truncated_normal((dim[1], num_outputs)))\n",
    "    b = tf.Variable(tf.zeros(num_outputs))\n",
    "    return tf.add(tf.matmul(x_tensor, W), b)\n",
    "\n",
    "\n",
    "\"\"\"\n",
    "DON'T MODIFY ANYTHING IN THIS CELL THAT IS BELOW THIS LINE\n",
    "\"\"\"\n",
    "tests.test_output(output)"
   ]
  },
  {
   "cell_type": "markdown",
   "metadata": {
    "deletable": true,
    "editable": true
   },
   "source": [
    "### Create Convolutional Model\n",
    "Implement the function `conv_net` to create a convolutional neural network model. The function takes in a batch of images, `x`, and outputs logits.  Use the layers you created above to create this model:\n",
    "\n",
    "* Apply 1, 2, or 3 Convolution and Max Pool layers\n",
    "* Apply a Flatten Layer\n",
    "* Apply 1, 2, or 3 Fully Connected Layers\n",
    "* Apply an Output Layer\n",
    "* Return the output\n",
    "* Apply [TensorFlow's Dropout](https://www.tensorflow.org/api_docs/python/tf/nn/dropout) to one or more layers in the model using `keep_prob`. "
   ]
  },
  {
   "cell_type": "code",
   "execution_count": 12,
   "metadata": {
    "collapsed": false,
    "deletable": true,
    "editable": true
   },
   "outputs": [
    {
     "name": "stdout",
     "output_type": "stream",
     "text": [
      "Neural Network Built!\n"
     ]
    }
   ],
   "source": [
    "def conv_net(x, keep_prob):\n",
    "    \"\"\"\n",
    "    Create a convolutional neural network model\n",
    "    : x: Placeholder tensor that holds image data.\n",
    "    : keep_prob: Placeholder tensor that hold dropout keep probability.\n",
    "    : return: Tensor that represents logits\n",
    "    \"\"\"\n",
    "    # TODO: Apply 1, 2, or 3 Convolution and Max Pool layers\n",
    "    #    Play around with different number of outputs, kernel size and stride\n",
    "    # Function Definition from Above:\n",
    "    #    conv2d_maxpool(x_tensor, conv_num_outputs, conv_ksize, conv_strides, pool_ksize, pool_strides)\n",
    "    \n",
    "    # First conv layer\n",
    "    conv_num_outputs = 32\n",
    "    conv_ksize = [3, 3]\n",
    "    conv_strides = [1, 1]\n",
    "    pool_ksize = [2, 2]\n",
    "    pool_strides = [2, 2]\n",
    "    x_tensor = conv2d_maxpool(x, conv_num_outputs, conv_ksize, conv_strides, pool_ksize, pool_strides)\n",
    "\n",
    "    # Second conv layer\n",
    "    conv_num_outputs = 64\n",
    "    conv_ksize = [3, 3]\n",
    "    conv_strides = [1, 1]\n",
    "    pool_ksize = [2, 2]\n",
    "    pool_strides = [2, 2]\n",
    "    x_tensor = conv2d_maxpool(x_tensor, conv_num_outputs, conv_ksize, conv_strides, pool_ksize, pool_strides)\n",
    "\n",
    "    # Third conv layer\n",
    "    conv_num_outputs = 128\n",
    "    conv_ksize = [3, 3]\n",
    "    conv_strides = [1, 1]\n",
    "    pool_ksize = [2, 2]\n",
    "    pool_strides = [2, 2]\n",
    "    x_tensor = conv2d_maxpool(x_tensor, conv_num_outputs, conv_ksize, conv_strides, pool_ksize, pool_strides)\n",
    "    \n",
    "    # Apply a Flatten Layer\n",
    "    x_tensor = flatten(x_tensor)\n",
    "    \n",
    "    # Apply 1, 2, or 3 Fully Connected Layers\n",
    "    #    Play around with different number of outputs\n",
    "    \n",
    "    # First fully connected layer with dropout\n",
    "    x_tensor = fully_conn(x_tensor, 64)\n",
    "#     x_tensor = tf.nn.dropout(x_tensor, keep_prob)\n",
    "    \n",
    "    # Second fully connected layer with dropout\n",
    "#     x_tensor = fully_conn(x_tensor, 64)\n",
    "#     x_tensor = tf.nn.dropout(x_tensor, keep_prob)\n",
    "\n",
    "    # Third fully connected layer with dropout\n",
    "#     x_tensor = fully_conn(x_tensor, 64)\n",
    "    x_tensor = tf.nn.dropout(x_tensor, keep_prob)\n",
    "    \n",
    "    # Apply an Output Layer\n",
    "    #    Set this to the number of classes    \n",
    "    x_tensor = output(x_tensor, len(label_to_index))\n",
    "\n",
    "    return x_tensor\n",
    "\n",
    "\n",
    "\"\"\"\n",
    "DON'T MODIFY ANYTHING IN THIS CELL THAT IS BELOW THIS LINE\n",
    "\"\"\"\n",
    "\n",
    "##############################\n",
    "## Build the Neural Network ##\n",
    "##############################\n",
    "\n",
    "# Remove previous weights, bias, inputs, etc..\n",
    "tf.reset_default_graph()\n",
    "\n",
    "# Inputs\n",
    "x = neural_net_image_input((32, 32, 3))\n",
    "y = neural_net_label_input(10)\n",
    "keep_prob = neural_net_keep_prob_input()\n",
    "\n",
    "# Model\n",
    "logits = conv_net(x, keep_prob)\n",
    "\n",
    "# Name logits Tensor, so that is can be loaded from disk after training\n",
    "logits = tf.identity(logits, name='logits')\n",
    "\n",
    "# Loss and Optimizer\n",
    "cost = tf.reduce_mean(tf.nn.softmax_cross_entropy_with_logits(logits=logits, labels=y))\n",
    "optimizer = tf.train.AdamOptimizer().minimize(cost)\n",
    "\n",
    "# Accuracy\n",
    "correct_pred = tf.equal(tf.argmax(logits, 1), tf.argmax(y, 1))\n",
    "accuracy = tf.reduce_mean(tf.cast(correct_pred, tf.float32), name='accuracy')\n",
    "\n",
    "tests.test_conv_net(conv_net)"
   ]
  },
  {
   "cell_type": "markdown",
   "metadata": {
    "deletable": true,
    "editable": true
   },
   "source": [
    "## Train the Neural Network\n",
    "### Single Optimization\n",
    "Implement the function `train_neural_network` to do a single optimization.  The optimization should use `optimizer` to optimize in `session` with a `feed_dict` of the following:\n",
    "* `x` for image input\n",
    "* `y` for labels\n",
    "* `keep_prob` for keep probability for dropout\n",
    "\n",
    "This function will be called for each batch, so `tf.global_variables_initializer()` has already been called.\n",
    "\n",
    "Note: Nothing needs to be returned. This function is only optimizing the neural network."
   ]
  },
  {
   "cell_type": "code",
   "execution_count": 13,
   "metadata": {
    "collapsed": false,
    "deletable": true,
    "editable": true
   },
   "outputs": [
    {
     "name": "stdout",
     "output_type": "stream",
     "text": [
      "Tests Passed\n"
     ]
    }
   ],
   "source": [
    "def train_neural_network(session, optimizer, keep_probability, feature_batch, label_batch):\n",
    "    \"\"\"\n",
    "    Optimize the session on a batch of images and labels\n",
    "    : session: Current TensorFlow session\n",
    "    : optimizer: TensorFlow optimizer function\n",
    "    : keep_probability: keep probability\n",
    "    : feature_batch: Batch of Numpy image data\n",
    "    : label_batch: Batch of Numpy label data\n",
    "    \"\"\"\n",
    "    # TODO: Implement Function\n",
    "#     image_input = neural_net_image_input(feature_batch.shape)\n",
    "#     label_input = neural_net_label_input(len(label_batch))\n",
    "#     keep_prob = neural_net_keep_prob_input()\n",
    "    session.run(\n",
    "        optimizer, \n",
    "        feed_dict={\n",
    "            x: feature_batch, \n",
    "            y: label_batch, \n",
    "            keep_prob: keep_probability\n",
    "        }\n",
    "    )\n",
    "\n",
    "\n",
    "\"\"\"\n",
    "DON'T MODIFY ANYTHING IN THIS CELL THAT IS BELOW THIS LINE\n",
    "\"\"\"\n",
    "tests.test_train_nn(train_neural_network)"
   ]
  },
  {
   "cell_type": "markdown",
   "metadata": {
    "deletable": true,
    "editable": true
   },
   "source": [
    "### Show Stats\n",
    "Implement the function `print_stats` to print loss and validation accuracy.  Use the global variables `valid_features` and `valid_labels` to calculate validation accuracy.  Use a keep probability of `1.0` to calculate the loss and validation accuracy."
   ]
  },
  {
   "cell_type": "code",
   "execution_count": 14,
   "metadata": {
    "collapsed": false,
    "deletable": true,
    "editable": true
   },
   "outputs": [],
   "source": [
    "def print_stats(session, feature_batch, label_batch, cost, accuracy):\n",
    "    \"\"\"\n",
    "    Print information about loss and validation accuracy\n",
    "    : session: Current TensorFlow session\n",
    "    : feature_batch: Batch of Numpy image data\n",
    "    : label_batch: Batch of Numpy label data\n",
    "    : cost: TensorFlow cost function\n",
    "    : accuracy: TensorFlow accuracy function\n",
    "    \"\"\"\n",
    "    # TODO: Implement Function\n",
    "    batch_accuracy = session.run(\n",
    "        accuracy, \n",
    "        feed_dict={\n",
    "            x: feature_batch,\n",
    "            y: label_batch,\n",
    "            keep_prob: 1.\n",
    "        }\n",
    "    )\n",
    "    batch_cost = session.run(\n",
    "        cost, \n",
    "        feed_dict={\n",
    "            x: feature_batch,\n",
    "            y: label_batch,\n",
    "            keep_prob: 1.\n",
    "        }\n",
    "    )\n",
    "    \n",
    "    valid_accuracy = session.run(\n",
    "        accuracy, \n",
    "        feed_dict={\n",
    "            x: valid_features,\n",
    "            y: valid_labels,\n",
    "            keep_prob: 1.\n",
    "        }\n",
    "    )\n",
    "    valid_cost = session.run(\n",
    "        cost, \n",
    "        feed_dict={\n",
    "            x: valid_features,\n",
    "            y: valid_labels,\n",
    "            keep_prob: 1.\n",
    "        }\n",
    "    )\n",
    "    print(\n",
    "        \"batch acc: {:.4f}, batch cost: {:.4f}, valid acc: {:.4f}, valid cost: {:.4f}\".format(\n",
    "            batch_accuracy, batch_cost, valid_accuracy, valid_cost\n",
    "        )\n",
    "    )\n"
   ]
  },
  {
   "cell_type": "markdown",
   "metadata": {
    "deletable": true,
    "editable": true
   },
   "source": [
    "### Hyperparameters\n",
    "Tune the following parameters:\n",
    "* Set `epochs` to the number of iterations until the network stops learning or start overfitting\n",
    "* Set `batch_size` to the highest number that your machine has memory for.  Most people set them to common sizes of memory:\n",
    " * 64\n",
    " * 128\n",
    " * 256\n",
    " * ...\n",
    "* Set `keep_probability` to the probability of keeping a node using dropout"
   ]
  },
  {
   "cell_type": "code",
   "execution_count": 21,
   "metadata": {
    "collapsed": true,
    "deletable": true,
    "editable": true
   },
   "outputs": [],
   "source": [
    "# TODO: Tune Parameters\n",
    "epochs = 25\n",
    "batch_size = 512\n",
    "keep_probability = 0.8"
   ]
  },
  {
   "cell_type": "markdown",
   "metadata": {
    "deletable": true,
    "editable": true
   },
   "source": [
    "### Train on a Single CIFAR-10 Batch\n",
    "Instead of training the neural network on all the CIFAR-10 batches of data, let's use a single batch. This should save time while you iterate on the model to get a better accuracy.  Once the final validation accuracy is 50% or greater, run the model on all the data in the next section."
   ]
  },
  {
   "cell_type": "code",
   "execution_count": 16,
   "metadata": {
    "collapsed": false,
    "deletable": true,
    "editable": true,
    "scrolled": true
   },
   "outputs": [
    {
     "name": "stdout",
     "output_type": "stream",
     "text": [
      "Checking the Training on a Single Batch...\n",
      "Epoch  1, CIFAR-10 Batch 1:  batch acc: 0.1318, batch cost: 2.2624, valid acc: 0.1390, valid cost: 2.2532\n",
      "Epoch  2, CIFAR-10 Batch 1:  batch acc: 0.1959, batch cost: 2.1527, valid acc: 0.1926, valid cost: 2.1695\n",
      "Epoch  3, CIFAR-10 Batch 1:  batch acc: 0.3108, batch cost: 2.0187, valid acc: 0.2700, valid cost: 2.0268\n",
      "Epoch  4, CIFAR-10 Batch 1:  batch acc: 0.3108, batch cost: 1.9410, valid acc: 0.3044, valid cost: 1.9302\n",
      "Epoch  5, CIFAR-10 Batch 1:  batch acc: 0.3480, batch cost: 1.8570, valid acc: 0.3394, valid cost: 1.8679\n",
      "Epoch  6, CIFAR-10 Batch 1:  batch acc: 0.4122, batch cost: 1.7588, valid acc: 0.3686, valid cost: 1.7786\n",
      "Epoch  7, CIFAR-10 Batch 1:  batch acc: 0.4561, batch cost: 1.6495, valid acc: 0.4074, valid cost: 1.6901\n",
      "Epoch  8, CIFAR-10 Batch 1:  batch acc: 0.4932, batch cost: 1.5796, valid acc: 0.4366, valid cost: 1.6380\n",
      "Epoch  9, CIFAR-10 Batch 1:  batch acc: 0.5203, batch cost: 1.5066, valid acc: 0.4328, valid cost: 1.6127\n",
      "Epoch 10, CIFAR-10 Batch 1:  batch acc: 0.5507, batch cost: 1.4223, valid acc: 0.4602, valid cost: 1.5449\n"
     ]
    }
   ],
   "source": [
    "\"\"\"\n",
    "DON'T MODIFY ANYTHING IN THIS CELL\n",
    "\"\"\"\n",
    "print('Checking the Training on a Single Batch...')\n",
    "with tf.Session() as sess:\n",
    "    # Initializing the variables\n",
    "    sess.run(tf.global_variables_initializer())\n",
    "    \n",
    "    # Training cycle\n",
    "    for epoch in range(epochs):\n",
    "        batch_i = 1\n",
    "        for batch_features, batch_labels in helper.load_preprocess_training_batch(batch_i, batch_size):\n",
    "            train_neural_network(sess, optimizer, keep_probability, batch_features, batch_labels)\n",
    "        print('Epoch {:>2}, CIFAR-10 Batch {}:  '.format(epoch + 1, batch_i), end='')\n",
    "        print_stats(sess, batch_features, batch_labels, cost, accuracy)"
   ]
  },
  {
   "cell_type": "markdown",
   "metadata": {
    "deletable": true,
    "editable": true
   },
   "source": [
    "### Fully Train the Model\n",
    "Now that you got a good accuracy with a single CIFAR-10 batch, try it with all five batches."
   ]
  },
  {
   "cell_type": "code",
   "execution_count": 22,
   "metadata": {
    "collapsed": false,
    "deletable": true,
    "editable": true,
    "scrolled": false
   },
   "outputs": [
    {
     "name": "stdout",
     "output_type": "stream",
     "text": [
      "Training...\n",
      "Epoch  1, CIFAR-10 Batch 1:  batch acc: 0.1318, batch cost: 2.2815, valid acc: 0.1210, valid cost: 2.2811\n",
      "Epoch  1, CIFAR-10 Batch 2:  batch acc: 0.0980, batch cost: 2.2760, valid acc: 0.1348, valid cost: 2.2585\n",
      "Epoch  1, CIFAR-10 Batch 3:  batch acc: 0.2128, batch cost: 2.1307, valid acc: 0.2088, valid cost: 2.1622\n",
      "Epoch  1, CIFAR-10 Batch 4:  batch acc: 0.3041, batch cost: 1.9402, valid acc: 0.2862, valid cost: 1.9999\n",
      "Epoch  1, CIFAR-10 Batch 5:  batch acc: 0.3311, batch cost: 1.8718, valid acc: 0.3294, valid cost: 1.8653\n",
      "Epoch  2, CIFAR-10 Batch 1:  batch acc: 0.3311, batch cost: 1.8675, valid acc: 0.3612, valid cost: 1.8113\n",
      "Epoch  2, CIFAR-10 Batch 2:  batch acc: 0.4054, batch cost: 1.7448, valid acc: 0.3872, valid cost: 1.7539\n",
      "Epoch  2, CIFAR-10 Batch 3:  batch acc: 0.4189, batch cost: 1.6274, valid acc: 0.3908, valid cost: 1.7121\n",
      "Epoch  2, CIFAR-10 Batch 4:  batch acc: 0.4561, batch cost: 1.5702, valid acc: 0.4264, valid cost: 1.6597\n",
      "Epoch  2, CIFAR-10 Batch 5:  batch acc: 0.4595, batch cost: 1.5700, valid acc: 0.4392, valid cost: 1.6055\n",
      "Epoch  3, CIFAR-10 Batch 1:  batch acc: 0.4493, batch cost: 1.6370, valid acc: 0.4400, valid cost: 1.6191\n",
      "Epoch  3, CIFAR-10 Batch 2:  batch acc: 0.4899, batch cost: 1.5095, valid acc: 0.4608, valid cost: 1.5622\n",
      "Epoch  3, CIFAR-10 Batch 3:  batch acc: 0.4831, batch cost: 1.4671, valid acc: 0.4540, valid cost: 1.5580\n",
      "Epoch  3, CIFAR-10 Batch 4:  batch acc: 0.5270, batch cost: 1.4099, valid acc: 0.4732, valid cost: 1.5050\n",
      "Epoch  3, CIFAR-10 Batch 5:  batch acc: 0.5372, batch cost: 1.4080, valid acc: 0.4942, valid cost: 1.4692\n",
      "Epoch  4, CIFAR-10 Batch 1:  batch acc: 0.5135, batch cost: 1.5188, valid acc: 0.4592, valid cost: 1.5484\n",
      "Epoch  4, CIFAR-10 Batch 2:  batch acc: 0.5338, batch cost: 1.3857, valid acc: 0.4968, valid cost: 1.4567\n",
      "Epoch  4, CIFAR-10 Batch 3:  batch acc: 0.5473, batch cost: 1.3111, valid acc: 0.4930, valid cost: 1.4527\n",
      "Epoch  4, CIFAR-10 Batch 4:  batch acc: 0.5608, batch cost: 1.2809, valid acc: 0.5060, valid cost: 1.3867\n",
      "Epoch  4, CIFAR-10 Batch 5:  batch acc: 0.5777, batch cost: 1.2707, valid acc: 0.5178, valid cost: 1.3744\n",
      "Epoch  5, CIFAR-10 Batch 1:  batch acc: 0.5946, batch cost: 1.2987, valid acc: 0.5324, valid cost: 1.3388\n",
      "Epoch  5, CIFAR-10 Batch 2:  batch acc: 0.6047, batch cost: 1.2467, valid acc: 0.5260, valid cost: 1.3398\n",
      "Epoch  5, CIFAR-10 Batch 3:  batch acc: 0.5473, batch cost: 1.2317, valid acc: 0.5034, valid cost: 1.3902\n",
      "Epoch  5, CIFAR-10 Batch 4:  batch acc: 0.5912, batch cost: 1.1378, valid acc: 0.5452, valid cost: 1.3006\n",
      "Epoch  5, CIFAR-10 Batch 5:  batch acc: 0.6115, batch cost: 1.1812, valid acc: 0.5602, valid cost: 1.2666\n",
      "Epoch  6, CIFAR-10 Batch 1:  batch acc: 0.6216, batch cost: 1.1617, valid acc: 0.5616, valid cost: 1.2407\n",
      "Epoch  6, CIFAR-10 Batch 2:  batch acc: 0.6486, batch cost: 1.1043, valid acc: 0.5724, valid cost: 1.2284\n",
      "Epoch  6, CIFAR-10 Batch 3:  batch acc: 0.6385, batch cost: 1.0860, valid acc: 0.5686, valid cost: 1.2375\n",
      "Epoch  6, CIFAR-10 Batch 4:  batch acc: 0.6419, batch cost: 1.0389, valid acc: 0.5678, valid cost: 1.2423\n",
      "Epoch  6, CIFAR-10 Batch 5:  batch acc: 0.6520, batch cost: 1.0840, valid acc: 0.5812, valid cost: 1.2152\n",
      "Epoch  7, CIFAR-10 Batch 1:  batch acc: 0.6385, batch cost: 1.0893, valid acc: 0.5912, valid cost: 1.1953\n",
      "Epoch  7, CIFAR-10 Batch 2:  batch acc: 0.6588, batch cost: 1.0560, valid acc: 0.5846, valid cost: 1.2136\n",
      "Epoch  7, CIFAR-10 Batch 3:  batch acc: 0.6791, batch cost: 1.0233, valid acc: 0.5770, valid cost: 1.2091\n",
      "Epoch  7, CIFAR-10 Batch 4:  batch acc: 0.6689, batch cost: 0.9354, valid acc: 0.6040, valid cost: 1.1459\n",
      "Epoch  7, CIFAR-10 Batch 5:  batch acc: 0.6655, batch cost: 1.0459, valid acc: 0.6004, valid cost: 1.1468\n",
      "Epoch  8, CIFAR-10 Batch 1:  batch acc: 0.6588, batch cost: 1.0313, valid acc: 0.5982, valid cost: 1.1575\n",
      "Epoch  8, CIFAR-10 Batch 2:  batch acc: 0.6892, batch cost: 0.9479, valid acc: 0.6068, valid cost: 1.1293\n",
      "Epoch  8, CIFAR-10 Batch 3:  batch acc: 0.6926, batch cost: 0.9407, valid acc: 0.5930, valid cost: 1.1438\n",
      "Epoch  8, CIFAR-10 Batch 4:  batch acc: 0.7061, batch cost: 0.8780, valid acc: 0.6240, valid cost: 1.0957\n",
      "Epoch  8, CIFAR-10 Batch 5:  batch acc: 0.6858, batch cost: 0.9568, valid acc: 0.6022, valid cost: 1.1472\n",
      "Epoch  9, CIFAR-10 Batch 1:  batch acc: 0.6993, batch cost: 0.9363, valid acc: 0.6196, valid cost: 1.1097\n",
      "Epoch  9, CIFAR-10 Batch 2:  batch acc: 0.6858, batch cost: 0.9156, valid acc: 0.6178, valid cost: 1.1064\n",
      "Epoch  9, CIFAR-10 Batch 3:  batch acc: 0.7095, batch cost: 0.9066, valid acc: 0.6090, valid cost: 1.1089\n",
      "Epoch  9, CIFAR-10 Batch 4:  batch acc: 0.7264, batch cost: 0.8521, valid acc: 0.6244, valid cost: 1.0802\n",
      "Epoch  9, CIFAR-10 Batch 5:  batch acc: 0.7162, batch cost: 0.8610, valid acc: 0.6366, valid cost: 1.0455\n",
      "Epoch 10, CIFAR-10 Batch 1:  batch acc: 0.7466, batch cost: 0.8875, valid acc: 0.6276, valid cost: 1.0834\n",
      "Epoch 10, CIFAR-10 Batch 2:  batch acc: 0.7230, batch cost: 0.8318, valid acc: 0.6358, valid cost: 1.0629\n",
      "Epoch 10, CIFAR-10 Batch 3:  batch acc: 0.7230, batch cost: 0.8218, valid acc: 0.6346, valid cost: 1.0753\n",
      "Epoch 10, CIFAR-10 Batch 4:  batch acc: 0.7264, batch cost: 0.8105, valid acc: 0.6366, valid cost: 1.0565\n",
      "Epoch 10, CIFAR-10 Batch 5:  batch acc: 0.7432, batch cost: 0.8138, valid acc: 0.6462, valid cost: 1.0307\n",
      "Epoch 11, CIFAR-10 Batch 1:  batch acc: 0.7399, batch cost: 0.8361, valid acc: 0.6390, valid cost: 1.0436\n",
      "Epoch 11, CIFAR-10 Batch 2:  batch acc: 0.7601, batch cost: 0.7894, valid acc: 0.6420, valid cost: 1.0452\n",
      "Epoch 11, CIFAR-10 Batch 3:  batch acc: 0.7399, batch cost: 0.7780, valid acc: 0.6450, valid cost: 1.0340\n",
      "Epoch 11, CIFAR-10 Batch 4:  batch acc: 0.7534, batch cost: 0.7472, valid acc: 0.6518, valid cost: 1.0207\n",
      "Epoch 11, CIFAR-10 Batch 5:  batch acc: 0.7500, batch cost: 0.7662, valid acc: 0.6600, valid cost: 1.0007\n",
      "Epoch 12, CIFAR-10 Batch 1:  batch acc: 0.7331, batch cost: 0.8304, valid acc: 0.6322, valid cost: 1.0515\n",
      "Epoch 12, CIFAR-10 Batch 2:  batch acc: 0.7297, batch cost: 0.7986, valid acc: 0.6310, valid cost: 1.1034\n",
      "Epoch 12, CIFAR-10 Batch 3:  batch acc: 0.7466, batch cost: 0.7265, valid acc: 0.6472, valid cost: 1.0118\n",
      "Epoch 12, CIFAR-10 Batch 4:  batch acc: 0.7804, batch cost: 0.7274, valid acc: 0.6490, valid cost: 1.0236\n",
      "Epoch 12, CIFAR-10 Batch 5:  batch acc: 0.7872, batch cost: 0.7288, valid acc: 0.6594, valid cost: 0.9953\n",
      "Epoch 13, CIFAR-10 Batch 1:  batch acc: 0.7432, batch cost: 0.7571, valid acc: 0.6472, valid cost: 1.0005\n",
      "Epoch 13, CIFAR-10 Batch 2:  batch acc: 0.7669, batch cost: 0.7355, valid acc: 0.6484, valid cost: 1.0493\n",
      "Epoch 13, CIFAR-10 Batch 3:  batch acc: 0.7399, batch cost: 0.6949, valid acc: 0.6478, valid cost: 1.0091\n",
      "Epoch 13, CIFAR-10 Batch 4:  batch acc: 0.7601, batch cost: 0.6652, valid acc: 0.6674, valid cost: 0.9622\n",
      "Epoch 13, CIFAR-10 Batch 5:  batch acc: 0.7905, batch cost: 0.6764, valid acc: 0.6698, valid cost: 0.9548\n",
      "Epoch 14, CIFAR-10 Batch 1:  batch acc: 0.7635, batch cost: 0.7161, valid acc: 0.6756, valid cost: 0.9505\n",
      "Epoch 14, CIFAR-10 Batch 2:  batch acc: 0.7804, batch cost: 0.6743, valid acc: 0.6556, valid cost: 1.0089\n",
      "Epoch 14, CIFAR-10 Batch 3:  batch acc: 0.7973, batch cost: 0.6325, valid acc: 0.6642, valid cost: 0.9772\n",
      "Epoch 14, CIFAR-10 Batch 4:  batch acc: 0.7838, batch cost: 0.6382, valid acc: 0.6704, valid cost: 0.9608\n",
      "Epoch 14, CIFAR-10 Batch 5:  batch acc: 0.8074, batch cost: 0.6241, valid acc: 0.6724, valid cost: 0.9459\n",
      "Epoch 15, CIFAR-10 Batch 1:  batch acc: 0.7804, batch cost: 0.6605, valid acc: 0.6772, valid cost: 0.9324\n",
      "Epoch 15, CIFAR-10 Batch 2:  batch acc: 0.7872, batch cost: 0.6232, valid acc: 0.6696, valid cost: 0.9559\n",
      "Epoch 15, CIFAR-10 Batch 3:  batch acc: 0.7905, batch cost: 0.6287, valid acc: 0.6604, valid cost: 0.9829\n",
      "Epoch 15, CIFAR-10 Batch 4:  batch acc: 0.7872, batch cost: 0.6302, valid acc: 0.6666, valid cost: 0.9557\n",
      "Epoch 15, CIFAR-10 Batch 5:  batch acc: 0.8108, batch cost: 0.6193, valid acc: 0.6788, valid cost: 0.9289\n",
      "Epoch 16, CIFAR-10 Batch 1:  batch acc: 0.7736, batch cost: 0.6534, valid acc: 0.6852, valid cost: 0.9205\n",
      "Epoch 16, CIFAR-10 Batch 2:  batch acc: 0.8209, batch cost: 0.6109, valid acc: 0.6658, valid cost: 0.9814\n",
      "Epoch 16, CIFAR-10 Batch 3:  batch acc: 0.8007, batch cost: 0.5928, valid acc: 0.6736, valid cost: 0.9629\n",
      "Epoch 16, CIFAR-10 Batch 4:  batch acc: 0.8311, batch cost: 0.5883, valid acc: 0.6878, valid cost: 0.9206\n",
      "Epoch 16, CIFAR-10 Batch 5:  batch acc: 0.8277, batch cost: 0.5745, valid acc: 0.6876, valid cost: 0.8992\n",
      "Epoch 17, CIFAR-10 Batch 1:  batch acc: 0.8176, batch cost: 0.5986, valid acc: 0.6880, valid cost: 0.9106\n",
      "Epoch 17, CIFAR-10 Batch 2:  batch acc: 0.8074, batch cost: 0.5929, valid acc: 0.6600, valid cost: 0.9860\n",
      "Epoch 17, CIFAR-10 Batch 3:  batch acc: 0.7905, batch cost: 0.6056, valid acc: 0.6506, valid cost: 1.0094\n",
      "Epoch 17, CIFAR-10 Batch 4:  batch acc: 0.8345, batch cost: 0.5270, valid acc: 0.6882, valid cost: 0.9048\n",
      "Epoch 17, CIFAR-10 Batch 5:  batch acc: 0.8378, batch cost: 0.5451, valid acc: 0.6912, valid cost: 0.9047\n",
      "Epoch 18, CIFAR-10 Batch 1:  batch acc: 0.8277, batch cost: 0.5697, valid acc: 0.6870, valid cost: 0.9155\n",
      "Epoch 18, CIFAR-10 Batch 2:  batch acc: 0.8412, batch cost: 0.5194, valid acc: 0.6740, valid cost: 0.9374\n",
      "Epoch 18, CIFAR-10 Batch 3:  batch acc: 0.8514, batch cost: 0.5087, valid acc: 0.6774, valid cost: 0.9401\n",
      "Epoch 18, CIFAR-10 Batch 4:  batch acc: 0.8209, batch cost: 0.5002, valid acc: 0.6862, valid cost: 0.9026\n",
      "Epoch 18, CIFAR-10 Batch 5:  batch acc: 0.8378, batch cost: 0.5171, valid acc: 0.6900, valid cost: 0.9119\n",
      "Epoch 19, CIFAR-10 Batch 1:  batch acc: 0.8176, batch cost: 0.5513, valid acc: 0.6924, valid cost: 0.8989\n",
      "Epoch 19, CIFAR-10 Batch 2:  batch acc: 0.8615, batch cost: 0.4998, valid acc: 0.6716, valid cost: 0.9455\n",
      "Epoch 19, CIFAR-10 Batch 3:  batch acc: 0.8446, batch cost: 0.4882, valid acc: 0.6816, valid cost: 0.9265\n",
      "Epoch 19, CIFAR-10 Batch 4:  batch acc: 0.8446, batch cost: 0.4758, valid acc: 0.6972, valid cost: 0.8982\n",
      "Epoch 19, CIFAR-10 Batch 5:  batch acc: 0.8480, batch cost: 0.4842, valid acc: 0.6968, valid cost: 0.8881\n",
      "Epoch 20, CIFAR-10 Batch 1:  batch acc: 0.8209, batch cost: 0.5146, valid acc: 0.6924, valid cost: 0.8940\n",
      "Epoch 20, CIFAR-10 Batch 2:  batch acc: 0.8851, batch cost: 0.4486, valid acc: 0.6896, valid cost: 0.8951\n",
      "Epoch 20, CIFAR-10 Batch 3:  batch acc: 0.8649, batch cost: 0.4386, valid acc: 0.6944, valid cost: 0.8965\n",
      "Epoch 20, CIFAR-10 Batch 4:  batch acc: 0.8514, batch cost: 0.4405, valid acc: 0.6926, valid cost: 0.9079\n",
      "Epoch 20, CIFAR-10 Batch 5:  batch acc: 0.8615, batch cost: 0.4610, valid acc: 0.6868, valid cost: 0.9237\n",
      "Epoch 21, CIFAR-10 Batch 1:  batch acc: 0.8277, batch cost: 0.5086, valid acc: 0.6906, valid cost: 0.9130\n",
      "Epoch 21, CIFAR-10 Batch 2:  batch acc: 0.8649, batch cost: 0.4457, valid acc: 0.6870, valid cost: 0.9091\n",
      "Epoch 21, CIFAR-10 Batch 3:  batch acc: 0.8615, batch cost: 0.4396, valid acc: 0.6902, valid cost: 0.9105\n",
      "Epoch 21, CIFAR-10 Batch 4:  batch acc: 0.8547, batch cost: 0.4423, valid acc: 0.6884, valid cost: 0.9205\n",
      "Epoch 21, CIFAR-10 Batch 5:  batch acc: 0.8818, batch cost: 0.4370, valid acc: 0.6892, valid cost: 0.9088\n",
      "Epoch 22, CIFAR-10 Batch 1:  batch acc: 0.8480, batch cost: 0.4698, valid acc: 0.6956, valid cost: 0.8939\n",
      "Epoch 22, CIFAR-10 Batch 2:  batch acc: 0.8919, batch cost: 0.4261, valid acc: 0.6930, valid cost: 0.8835\n",
      "Epoch 22, CIFAR-10 Batch 3:  batch acc: 0.8818, batch cost: 0.4347, valid acc: 0.6860, valid cost: 0.9050\n",
      "Epoch 22, CIFAR-10 Batch 4:  batch acc: 0.8750, batch cost: 0.4116, valid acc: 0.6992, valid cost: 0.8858\n",
      "Epoch 22, CIFAR-10 Batch 5:  batch acc: 0.8818, batch cost: 0.4136, valid acc: 0.6886, valid cost: 0.9142\n",
      "Epoch 23, CIFAR-10 Batch 1:  batch acc: 0.8547, batch cost: 0.4491, valid acc: 0.6900, valid cost: 0.8983\n",
      "Epoch 23, CIFAR-10 Batch 2:  batch acc: 0.9020, batch cost: 0.4095, valid acc: 0.6978, valid cost: 0.8675\n",
      "Epoch 23, CIFAR-10 Batch 3:  batch acc: 0.8919, batch cost: 0.3790, valid acc: 0.6978, valid cost: 0.8969\n",
      "Epoch 23, CIFAR-10 Batch 4:  batch acc: 0.8885, batch cost: 0.3919, valid acc: 0.7014, valid cost: 0.8721\n",
      "Epoch 23, CIFAR-10 Batch 5:  batch acc: 0.8885, batch cost: 0.3954, valid acc: 0.6958, valid cost: 0.8932\n",
      "Epoch 24, CIFAR-10 Batch 1:  batch acc: 0.8446, batch cost: 0.4197, valid acc: 0.7034, valid cost: 0.8882\n",
      "Epoch 24, CIFAR-10 Batch 2:  batch acc: 0.8953, batch cost: 0.3939, valid acc: 0.6954, valid cost: 0.8748\n",
      "Epoch 24, CIFAR-10 Batch 3:  batch acc: 0.8851, batch cost: 0.3881, valid acc: 0.6872, valid cost: 0.9309\n",
      "Epoch 24, CIFAR-10 Batch 4:  batch acc: 0.8784, batch cost: 0.3582, valid acc: 0.7056, valid cost: 0.8793\n",
      "Epoch 24, CIFAR-10 Batch 5:  batch acc: 0.8919, batch cost: 0.3547, valid acc: 0.7024, valid cost: 0.8784\n",
      "Epoch 25, CIFAR-10 Batch 1:  batch acc: 0.8514, batch cost: 0.4206, valid acc: 0.6878, valid cost: 0.9138\n",
      "Epoch 25, CIFAR-10 Batch 2:  batch acc: 0.9088, batch cost: 0.3690, valid acc: 0.7018, valid cost: 0.8839\n",
      "Epoch 25, CIFAR-10 Batch 3:  batch acc: 0.9020, batch cost: 0.3581, valid acc: 0.6954, valid cost: 0.9106\n",
      "Epoch 25, CIFAR-10 Batch 4:  batch acc: 0.8818, batch cost: 0.3542, valid acc: 0.7000, valid cost: 0.8839\n",
      "Epoch 25, CIFAR-10 Batch 5:  batch acc: 0.8919, batch cost: 0.3532, valid acc: 0.7048, valid cost: 0.8843\n",
      "Epoch 26, CIFAR-10 Batch 1:  batch acc: 0.8750, batch cost: 0.3995, valid acc: 0.6988, valid cost: 0.8883\n",
      "Epoch 26, CIFAR-10 Batch 2:  batch acc: 0.9122, batch cost: 0.3549, valid acc: 0.7048, valid cost: 0.8724\n",
      "Epoch 26, CIFAR-10 Batch 3:  batch acc: 0.9122, batch cost: 0.3445, valid acc: 0.6908, valid cost: 0.9109\n",
      "Epoch 26, CIFAR-10 Batch 4:  batch acc: 0.8919, batch cost: 0.3084, valid acc: 0.7062, valid cost: 0.8826\n",
      "Epoch 26, CIFAR-10 Batch 5:  batch acc: 0.9223, batch cost: 0.3309, valid acc: 0.7030, valid cost: 0.8896\n",
      "Epoch 27, CIFAR-10 Batch 1:  batch acc: 0.8784, batch cost: 0.3755, valid acc: 0.6970, valid cost: 0.9076\n",
      "Epoch 27, CIFAR-10 Batch 2:  batch acc: 0.8885, batch cost: 0.3747, valid acc: 0.7004, valid cost: 0.8902\n",
      "Epoch 27, CIFAR-10 Batch 3:  batch acc: 0.9189, batch cost: 0.3173, valid acc: 0.6948, valid cost: 0.8924\n",
      "Epoch 27, CIFAR-10 Batch 4:  batch acc: 0.8986, batch cost: 0.3297, valid acc: 0.6980, valid cost: 0.8881\n",
      "Epoch 27, CIFAR-10 Batch 5:  batch acc: 0.9054, batch cost: 0.3449, valid acc: 0.7004, valid cost: 0.8926\n",
      "Epoch 28, CIFAR-10 Batch 1:  batch acc: 0.8919, batch cost: 0.3631, valid acc: 0.6970, valid cost: 0.9090\n",
      "Epoch 28, CIFAR-10 Batch 2:  batch acc: 0.9122, batch cost: 0.3086, valid acc: 0.7058, valid cost: 0.8708\n",
      "Epoch 28, CIFAR-10 Batch 3:  batch acc: 0.9291, batch cost: 0.2884, valid acc: 0.7040, valid cost: 0.8926\n",
      "Epoch 28, CIFAR-10 Batch 4:  batch acc: 0.9155, batch cost: 0.3272, valid acc: 0.6850, valid cost: 0.9306\n",
      "Epoch 28, CIFAR-10 Batch 5:  batch acc: 0.9020, batch cost: 0.3311, valid acc: 0.7040, valid cost: 0.8950\n",
      "Epoch 29, CIFAR-10 Batch 1:  batch acc: 0.8851, batch cost: 0.3702, valid acc: 0.6964, valid cost: 0.9212\n",
      "Epoch 29, CIFAR-10 Batch 2:  batch acc: 0.9122, batch cost: 0.3361, valid acc: 0.6992, valid cost: 0.8749\n",
      "Epoch 29, CIFAR-10 Batch 3:  batch acc: 0.9324, batch cost: 0.2753, valid acc: 0.6932, valid cost: 0.9316\n",
      "Epoch 29, CIFAR-10 Batch 4:  batch acc: 0.9088, batch cost: 0.3209, valid acc: 0.6800, valid cost: 0.9782\n",
      "Epoch 29, CIFAR-10 Batch 5:  batch acc: 0.9020, batch cost: 0.3325, valid acc: 0.6932, valid cost: 0.8943\n",
      "Epoch 30, CIFAR-10 Batch 1:  batch acc: 0.8784, batch cost: 0.3729, valid acc: 0.6758, valid cost: 0.9492\n",
      "Epoch 30, CIFAR-10 Batch 2:  batch acc: 0.9088, batch cost: 0.3213, valid acc: 0.7070, valid cost: 0.8775\n",
      "Epoch 30, CIFAR-10 Batch 3:  batch acc: 0.9358, batch cost: 0.2609, valid acc: 0.7010, valid cost: 0.8863\n",
      "Epoch 30, CIFAR-10 Batch 4:  batch acc: 0.9223, batch cost: 0.2861, valid acc: 0.6884, valid cost: 0.9577\n",
      "Epoch 30, CIFAR-10 Batch 5:  batch acc: 0.8953, batch cost: 0.3396, valid acc: 0.6906, valid cost: 0.9165\n",
      "Epoch 31, CIFAR-10 Batch 1:  batch acc: 0.8885, batch cost: 0.3498, valid acc: 0.6870, valid cost: 0.9329\n",
      "Epoch 31, CIFAR-10 Batch 2:  batch acc: 0.9155, batch cost: 0.3363, valid acc: 0.7002, valid cost: 0.8691\n",
      "Epoch 31, CIFAR-10 Batch 3:  batch acc: 0.9459, batch cost: 0.2545, valid acc: 0.6988, valid cost: 0.9053\n",
      "Epoch 31, CIFAR-10 Batch 4:  batch acc: 0.9291, batch cost: 0.2705, valid acc: 0.6898, valid cost: 0.9503\n",
      "Epoch 31, CIFAR-10 Batch 5:  batch acc: 0.9358, batch cost: 0.2950, valid acc: 0.7012, valid cost: 0.8871\n",
      "Epoch 32, CIFAR-10 Batch 1:  batch acc: 0.8986, batch cost: 0.3264, valid acc: 0.6872, valid cost: 0.9331\n",
      "Epoch 32, CIFAR-10 Batch 2:  batch acc: 0.9493, batch cost: 0.2883, valid acc: 0.7096, valid cost: 0.8636\n",
      "Epoch 32, CIFAR-10 Batch 3:  batch acc: 0.9392, batch cost: 0.2400, valid acc: 0.7000, valid cost: 0.9176\n",
      "Epoch 32, CIFAR-10 Batch 4:  batch acc: 0.9257, batch cost: 0.2624, valid acc: 0.6922, valid cost: 0.9564\n",
      "Epoch 32, CIFAR-10 Batch 5:  batch acc: 0.9392, batch cost: 0.2732, valid acc: 0.7032, valid cost: 0.8759\n",
      "Epoch 33, CIFAR-10 Batch 1:  batch acc: 0.9189, batch cost: 0.3335, valid acc: 0.6934, valid cost: 0.9135\n",
      "Epoch 33, CIFAR-10 Batch 2:  batch acc: 0.9358, batch cost: 0.2895, valid acc: 0.7078, valid cost: 0.8834\n",
      "Epoch 33, CIFAR-10 Batch 3:  batch acc: 0.9392, batch cost: 0.2092, valid acc: 0.7090, valid cost: 0.9100\n",
      "Epoch 33, CIFAR-10 Batch 4:  batch acc: 0.9291, batch cost: 0.2604, valid acc: 0.6880, valid cost: 0.9625\n",
      "Epoch 33, CIFAR-10 Batch 5:  batch acc: 0.9392, batch cost: 0.2735, valid acc: 0.7102, valid cost: 0.8851\n",
      "Epoch 34, CIFAR-10 Batch 1:  batch acc: 0.9223, batch cost: 0.2809, valid acc: 0.7070, valid cost: 0.9021\n",
      "Epoch 34, CIFAR-10 Batch 2:  batch acc: 0.9257, batch cost: 0.2698, valid acc: 0.6976, valid cost: 0.9166\n",
      "Epoch 34, CIFAR-10 Batch 3:  batch acc: 0.9561, batch cost: 0.1899, valid acc: 0.7038, valid cost: 0.9165\n",
      "Epoch 34, CIFAR-10 Batch 4:  batch acc: 0.9324, batch cost: 0.2334, valid acc: 0.6902, valid cost: 0.9616\n",
      "Epoch 34, CIFAR-10 Batch 5:  batch acc: 0.9223, batch cost: 0.2712, valid acc: 0.6988, valid cost: 0.9092\n",
      "Epoch 35, CIFAR-10 Batch 1:  batch acc: 0.9291, batch cost: 0.2933, valid acc: 0.7026, valid cost: 0.9269\n",
      "Epoch 35, CIFAR-10 Batch 2:  batch acc: 0.9291, batch cost: 0.2644, valid acc: 0.6998, valid cost: 0.9297\n",
      "Epoch 35, CIFAR-10 Batch 3:  batch acc: 0.9662, batch cost: 0.1834, valid acc: 0.7126, valid cost: 0.8928\n",
      "Epoch 35, CIFAR-10 Batch 4:  batch acc: 0.9257, batch cost: 0.2258, valid acc: 0.7014, valid cost: 0.9385\n",
      "Epoch 35, CIFAR-10 Batch 5:  batch acc: 0.9459, batch cost: 0.2376, valid acc: 0.7020, valid cost: 0.9396\n",
      "Epoch 36, CIFAR-10 Batch 1:  batch acc: 0.9426, batch cost: 0.2581, valid acc: 0.7064, valid cost: 0.9125\n",
      "Epoch 36, CIFAR-10 Batch 2:  batch acc: 0.9324, batch cost: 0.2481, valid acc: 0.6938, valid cost: 0.9640\n",
      "Epoch 36, CIFAR-10 Batch 3:  batch acc: 0.9628, batch cost: 0.1658, valid acc: 0.7106, valid cost: 0.9203\n",
      "Epoch 36, CIFAR-10 Batch 4:  batch acc: 0.9392, batch cost: 0.2084, valid acc: 0.7044, valid cost: 0.9545\n",
      "Epoch 36, CIFAR-10 Batch 5:  batch acc: 0.9426, batch cost: 0.2217, valid acc: 0.7064, valid cost: 0.9156\n",
      "Epoch 37, CIFAR-10 Batch 1:  batch acc: 0.9189, batch cost: 0.2559, valid acc: 0.6956, valid cost: 0.9623\n",
      "Epoch 37, CIFAR-10 Batch 2:  batch acc: 0.9459, batch cost: 0.2385, valid acc: 0.6918, valid cost: 0.9558\n",
      "Epoch 37, CIFAR-10 Batch 3:  batch acc: 0.9696, batch cost: 0.1616, valid acc: 0.7114, valid cost: 0.9531\n",
      "Epoch 37, CIFAR-10 Batch 4:  batch acc: 0.9662, batch cost: 0.1963, valid acc: 0.7074, valid cost: 0.9303\n",
      "Epoch 37, CIFAR-10 Batch 5:  batch acc: 0.9493, batch cost: 0.2116, valid acc: 0.7026, valid cost: 0.9370\n",
      "Epoch 38, CIFAR-10 Batch 1:  batch acc: 0.9324, batch cost: 0.2418, valid acc: 0.6908, valid cost: 0.9668\n",
      "Epoch 38, CIFAR-10 Batch 2:  batch acc: 0.9493, batch cost: 0.2200, valid acc: 0.7016, valid cost: 0.9375\n",
      "Epoch 38, CIFAR-10 Batch 3:  batch acc: 0.9764, batch cost: 0.1645, valid acc: 0.6982, valid cost: 0.9691\n",
      "Epoch 38, CIFAR-10 Batch 4:  batch acc: 0.9628, batch cost: 0.1683, valid acc: 0.7058, valid cost: 0.9521\n",
      "Epoch 38, CIFAR-10 Batch 5:  batch acc: 0.9595, batch cost: 0.2005, valid acc: 0.7088, valid cost: 0.9102\n",
      "Epoch 39, CIFAR-10 Batch 1:  batch acc: 0.9561, batch cost: 0.2048, valid acc: 0.6978, valid cost: 0.9809\n",
      "Epoch 39, CIFAR-10 Batch 2:  batch acc: 0.9595, batch cost: 0.2046, valid acc: 0.7082, valid cost: 0.9142\n",
      "Epoch 39, CIFAR-10 Batch 3:  batch acc: 0.9730, batch cost: 0.1601, valid acc: 0.7022, valid cost: 0.9605\n",
      "Epoch 39, CIFAR-10 Batch 4:  batch acc: 0.9595, batch cost: 0.1657, valid acc: 0.7064, valid cost: 0.9578\n",
      "Epoch 39, CIFAR-10 Batch 5:  batch acc: 0.9561, batch cost: 0.1977, valid acc: 0.7148, valid cost: 0.9102\n",
      "Epoch 40, CIFAR-10 Batch 1:  batch acc: 0.9595, batch cost: 0.1904, valid acc: 0.6998, valid cost: 0.9938\n",
      "Epoch 40, CIFAR-10 Batch 2:  batch acc: 0.9561, batch cost: 0.2138, valid acc: 0.7170, valid cost: 0.9008\n",
      "Epoch 40, CIFAR-10 Batch 3:  batch acc: 0.9764, batch cost: 0.1439, valid acc: 0.7110, valid cost: 0.9721\n",
      "Epoch 40, CIFAR-10 Batch 4:  batch acc: 0.9628, batch cost: 0.1720, valid acc: 0.7024, valid cost: 0.9804\n",
      "Epoch 40, CIFAR-10 Batch 5:  batch acc: 0.9561, batch cost: 0.1851, valid acc: 0.7020, valid cost: 0.9526\n",
      "Epoch 41, CIFAR-10 Batch 1:  batch acc: 0.9561, batch cost: 0.1998, valid acc: 0.6976, valid cost: 0.9950\n",
      "Epoch 41, CIFAR-10 Batch 2:  batch acc: 0.9459, batch cost: 0.2003, valid acc: 0.7090, valid cost: 0.9477\n",
      "Epoch 41, CIFAR-10 Batch 3:  batch acc: 0.9764, batch cost: 0.1349, valid acc: 0.7152, valid cost: 0.9547\n",
      "Epoch 41, CIFAR-10 Batch 4:  batch acc: 0.9358, batch cost: 0.2132, valid acc: 0.6922, valid cost: 0.9843\n",
      "Epoch 41, CIFAR-10 Batch 5:  batch acc: 0.9662, batch cost: 0.1990, valid acc: 0.6958, valid cost: 0.9486\n",
      "Epoch 42, CIFAR-10 Batch 1:  batch acc: 0.9696, batch cost: 0.1817, valid acc: 0.7018, valid cost: 0.9800\n",
      "Epoch 42, CIFAR-10 Batch 2:  batch acc: 0.9595, batch cost: 0.1855, valid acc: 0.7102, valid cost: 0.9347\n",
      "Epoch 42, CIFAR-10 Batch 3:  batch acc: 0.9696, batch cost: 0.1240, valid acc: 0.7178, valid cost: 0.9524\n",
      "Epoch 42, CIFAR-10 Batch 4:  batch acc: 0.9527, batch cost: 0.1841, valid acc: 0.7014, valid cost: 0.9578\n",
      "Epoch 42, CIFAR-10 Batch 5:  batch acc: 0.9628, batch cost: 0.1957, valid acc: 0.7012, valid cost: 0.9613\n",
      "Epoch 43, CIFAR-10 Batch 1:  batch acc: 0.9493, batch cost: 0.1982, valid acc: 0.7012, valid cost: 0.9780\n",
      "Epoch 43, CIFAR-10 Batch 2:  batch acc: 0.9493, batch cost: 0.1932, valid acc: 0.6946, valid cost: 1.0158\n",
      "Epoch 43, CIFAR-10 Batch 3:  batch acc: 0.9696, batch cost: 0.1439, valid acc: 0.7104, valid cost: 0.9756\n",
      "Epoch 43, CIFAR-10 Batch 4:  batch acc: 0.9662, batch cost: 0.1755, valid acc: 0.6918, valid cost: 1.0002\n",
      "Epoch 43, CIFAR-10 Batch 5:  batch acc: 0.9628, batch cost: 0.1738, valid acc: 0.7040, valid cost: 0.9863\n",
      "Epoch 44, CIFAR-10 Batch 1:  batch acc: 0.9561, batch cost: 0.1850, valid acc: 0.7154, valid cost: 0.9530\n",
      "Epoch 44, CIFAR-10 Batch 2:  batch acc: 0.9493, batch cost: 0.1939, valid acc: 0.6878, valid cost: 1.0490\n",
      "Epoch 44, CIFAR-10 Batch 3:  batch acc: 0.9865, batch cost: 0.1200, valid acc: 0.7102, valid cost: 0.9710\n",
      "Epoch 44, CIFAR-10 Batch 4:  batch acc: 0.9764, batch cost: 0.1388, valid acc: 0.7052, valid cost: 0.9646\n",
      "Epoch 44, CIFAR-10 Batch 5:  batch acc: 0.9561, batch cost: 0.1949, valid acc: 0.7002, valid cost: 0.9925\n",
      "Epoch 45, CIFAR-10 Batch 1:  batch acc: 0.9561, batch cost: 0.1838, valid acc: 0.7070, valid cost: 0.9923\n",
      "Epoch 45, CIFAR-10 Batch 2:  batch acc: 0.9527, batch cost: 0.1679, valid acc: 0.6982, valid cost: 1.0192\n",
      "Epoch 45, CIFAR-10 Batch 3:  batch acc: 0.9932, batch cost: 0.1049, valid acc: 0.7114, valid cost: 0.9844\n",
      "Epoch 45, CIFAR-10 Batch 4:  batch acc: 0.9628, batch cost: 0.1493, valid acc: 0.6972, valid cost: 0.9890\n",
      "Epoch 45, CIFAR-10 Batch 5:  batch acc: 0.9730, batch cost: 0.1395, valid acc: 0.6994, valid cost: 0.9977\n",
      "Epoch 46, CIFAR-10 Batch 1:  batch acc: 0.9662, batch cost: 0.1479, valid acc: 0.7146, valid cost: 1.0033\n",
      "Epoch 46, CIFAR-10 Batch 2:  batch acc: 0.9696, batch cost: 0.1350, valid acc: 0.6942, valid cost: 1.0453\n",
      "Epoch 46, CIFAR-10 Batch 3:  batch acc: 0.9831, batch cost: 0.1166, valid acc: 0.7092, valid cost: 0.9901\n",
      "Epoch 46, CIFAR-10 Batch 4:  batch acc: 0.9628, batch cost: 0.1365, valid acc: 0.6866, valid cost: 1.0436\n",
      "Epoch 46, CIFAR-10 Batch 5:  batch acc: 0.9595, batch cost: 0.1781, valid acc: 0.6982, valid cost: 1.0102\n",
      "Epoch 47, CIFAR-10 Batch 1:  batch acc: 0.9527, batch cost: 0.1873, valid acc: 0.7096, valid cost: 1.0022\n",
      "Epoch 47, CIFAR-10 Batch 2:  batch acc: 0.9662, batch cost: 0.1339, valid acc: 0.6990, valid cost: 1.0413\n",
      "Epoch 47, CIFAR-10 Batch 3:  batch acc: 0.9865, batch cost: 0.1047, valid acc: 0.7068, valid cost: 1.0167\n",
      "Epoch 47, CIFAR-10 Batch 4:  batch acc: 0.9696, batch cost: 0.1420, valid acc: 0.6924, valid cost: 1.0507\n",
      "Epoch 47, CIFAR-10 Batch 5:  batch acc: 0.9561, batch cost: 0.1884, valid acc: 0.6956, valid cost: 1.0548\n",
      "Epoch 48, CIFAR-10 Batch 1:  batch acc: 0.9730, batch cost: 0.1416, valid acc: 0.7106, valid cost: 0.9823\n",
      "Epoch 48, CIFAR-10 Batch 2:  batch acc: 0.9696, batch cost: 0.1225, valid acc: 0.7110, valid cost: 1.0070\n",
      "Epoch 48, CIFAR-10 Batch 3:  batch acc: 0.9966, batch cost: 0.0834, valid acc: 0.7076, valid cost: 1.0200\n",
      "Epoch 48, CIFAR-10 Batch 4:  batch acc: 0.9730, batch cost: 0.1311, valid acc: 0.6850, valid cost: 1.0926\n",
      "Epoch 48, CIFAR-10 Batch 5:  batch acc: 0.9527, batch cost: 0.1431, valid acc: 0.7014, valid cost: 1.0664\n",
      "Epoch 49, CIFAR-10 Batch 1:  batch acc: 0.9662, batch cost: 0.1303, valid acc: 0.7166, valid cost: 1.0075\n",
      "Epoch 49, CIFAR-10 Batch 2:  batch acc: 0.9730, batch cost: 0.1118, valid acc: 0.7164, valid cost: 1.0232\n",
      "Epoch 49, CIFAR-10 Batch 3:  batch acc: 1.0000, batch cost: 0.0829, valid acc: 0.7054, valid cost: 1.0159\n",
      "Epoch 49, CIFAR-10 Batch 4:  batch acc: 0.9662, batch cost: 0.1501, valid acc: 0.6834, valid cost: 1.0879\n",
      "Epoch 49, CIFAR-10 Batch 5:  batch acc: 0.9527, batch cost: 0.1498, valid acc: 0.6988, valid cost: 1.0685\n",
      "Epoch 50, CIFAR-10 Batch 1:  batch acc: 0.9797, batch cost: 0.1213, valid acc: 0.7162, valid cost: 1.0327\n",
      "Epoch 50, CIFAR-10 Batch 2:  batch acc: 0.9764, batch cost: 0.1183, valid acc: 0.7158, valid cost: 1.0245\n",
      "Epoch 50, CIFAR-10 Batch 3:  batch acc: 1.0000, batch cost: 0.0821, valid acc: 0.7074, valid cost: 1.0523\n",
      "Epoch 50, CIFAR-10 Batch 4:  batch acc: 0.9628, batch cost: 0.1484, valid acc: 0.6732, valid cost: 1.1972\n",
      "Epoch 50, CIFAR-10 Batch 5:  batch acc: 0.9764, batch cost: 0.1246, valid acc: 0.6974, valid cost: 1.1231\n"
     ]
    }
   ],
   "source": [
    "\"\"\"\n",
    "DON'T MODIFY ANYTHING IN THIS CELL\n",
    "\"\"\"\n",
    "save_model_path = './image_classification'\n",
    "\n",
    "print('Training...')\n",
    "with tf.Session() as sess:\n",
    "    # Initializing the variables\n",
    "    sess.run(tf.global_variables_initializer())\n",
    "    \n",
    "    # Training cycle\n",
    "    for epoch in range(epochs):\n",
    "        # Loop over all batches\n",
    "        n_batches = 5\n",
    "        for batch_i in range(1, n_batches + 1):\n",
    "            for batch_features, batch_labels in helper.load_preprocess_training_batch(batch_i, batch_size):\n",
    "                train_neural_network(sess, optimizer, keep_probability, batch_features, batch_labels)\n",
    "            print('Epoch {:>2}, CIFAR-10 Batch {}:  '.format(epoch + 1, batch_i), end='')\n",
    "            print_stats(sess, batch_features, batch_labels, cost, accuracy)\n",
    "            \n",
    "    # Save Model\n",
    "    saver = tf.train.Saver()\n",
    "    save_path = saver.save(sess, save_model_path)"
   ]
  },
  {
   "cell_type": "markdown",
   "metadata": {
    "deletable": true,
    "editable": true
   },
   "source": [
    "# Checkpoint\n",
    "The model has been saved to disk.\n",
    "## Test Model\n",
    "Test your model against the test dataset.  This will be your final accuracy. You should have an accuracy greater than 50%. If you don't, keep tweaking the model architecture and parameters."
   ]
  },
  {
   "cell_type": "code",
   "execution_count": 23,
   "metadata": {
    "collapsed": false,
    "deletable": true,
    "editable": true
   },
   "outputs": [
    {
     "name": "stdout",
     "output_type": "stream",
     "text": [
      "Testing Accuracy: 0.6904584109783173\n",
      "\n"
     ]
    },
    {
     "data": {
      "image/png": "[encoded data removed]",
      "text/plain": [
       "<matplotlib.figure.Figure at 0x7f8b8d963b70>"
      ]
     },
     "metadata": {
      "image/png": {
       "height": 319,
       "width": 355
      }
     },
     "output_type": "display_data"
    }
   ],
   "source": [
    "\"\"\"\n",
    "DON'T MODIFY ANYTHING IN THIS CELL\n",
    "\"\"\"\n",
    "%matplotlib inline\n",
    "%config InlineBackend.figure_format = 'retina'\n",
    "\n",
    "import tensorflow as tf\n",
    "import pickle\n",
    "import helper\n",
    "import random\n",
    "\n",
    "# Set batch size if not already set\n",
    "try:\n",
    "    if batch_size:\n",
    "        pass\n",
    "except NameError:\n",
    "    batch_size = 64\n",
    "\n",
    "save_model_path = './image_classification'\n",
    "n_samples = 4\n",
    "top_n_predictions = 3\n",
    "\n",
    "def test_model():\n",
    "    \"\"\"\n",
    "    Test the saved model against the test dataset\n",
    "    \"\"\"\n",
    "\n",
    "    test_features, test_labels = pickle.load(open('preprocess_training.p', mode='rb'))\n",
    "    loaded_graph = tf.Graph()\n",
    "\n",
    "    with tf.Session(graph=loaded_graph) as sess:\n",
    "        # Load model\n",
    "        loader = tf.train.import_meta_graph(save_model_path + '.meta')\n",
    "        loader.restore(sess, save_model_path)\n",
    "\n",
    "        # Get Tensors from loaded model\n",
    "        loaded_x = loaded_graph.get_tensor_by_name('x:0')\n",
    "        loaded_y = loaded_graph.get_tensor_by_name('y:0')\n",
    "        loaded_keep_prob = loaded_graph.get_tensor_by_name('keep_prob:0')\n",
    "        loaded_logits = loaded_graph.get_tensor_by_name('logits:0')\n",
    "        loaded_acc = loaded_graph.get_tensor_by_name('accuracy:0')\n",
    "        \n",
    "        # Get accuracy in batches for memory limitations\n",
    "        test_batch_acc_total = 0\n",
    "        test_batch_count = 0\n",
    "        \n",
    "        for train_feature_batch, train_label_batch in helper.batch_features_labels(test_features, test_labels, batch_size):\n",
    "            test_batch_acc_total += sess.run(\n",
    "                loaded_acc,\n",
    "                feed_dict={loaded_x: train_feature_batch, loaded_y: train_label_batch, loaded_keep_prob: 1.0})\n",
    "            test_batch_count += 1\n",
    "\n",
    "        print('Testing Accuracy: {}\\n'.format(test_batch_acc_total/test_batch_count))\n",
    "\n",
    "        # Print Random Samples\n",
    "        random_test_features, random_test_labels = tuple(zip(*random.sample(list(zip(test_features, test_labels)), n_samples)))\n",
    "        random_test_predictions = sess.run(\n",
    "            tf.nn.top_k(tf.nn.softmax(loaded_logits), top_n_predictions),\n",
    "            feed_dict={loaded_x: random_test_features, loaded_y: random_test_labels, loaded_keep_prob: 1.0})\n",
    "        helper.display_image_predictions(random_test_features, random_test_labels, random_test_predictions)\n",
    "\n",
    "\n",
    "test_model()"
   ]
  },
  {
   "cell_type": "markdown",
   "metadata": {
    "deletable": true,
    "editable": true
   },
   "source": [
    "## Why 50-70% Accuracy?\n",
    "You might be wondering why you can't get an accuracy any higher. First things first, 50% isn't bad for a simple CNN.  Pure guessing would get you 10% accuracy. However, you might notice people are getting scores [well above 70%](http://rodrigob.github.io/are_we_there_yet/build/classification_datasets_results.html#43494641522d3130).  That's because we haven't taught you all there is to know about neural networks. We still need to cover a few more techniques.\n",
    "## Submitting This Project\n",
    "When submitting this project, make sure to run all the cells before saving the notebook.  Save the notebook file as \"dlnd_image_classification.ipynb\" and save it as a HTML file under \"File\" -> \"Download as\".  Include the \"helper.py\" and \"problem_unittests.py\" files in your submission."
   ]
  }
 ],
 "metadata": {
  "anaconda-cloud": {},
  "kernelspec": {
   "display_name": "Python 3",
   "language": "python",
   "name": "python3"
  },
  "language_info": {
   "codemirror_mode": {
    "name": "ipython",
    "version": 3
   },
   "file_extension": ".py",
   "mimetype": "text/x-python",
   "name": "python",
   "nbconvert_exporter": "python",
   "pygments_lexer": "ipython3",
   "version": "3.5.3"
  }
 },
 "nbformat": 4,
 "nbformat_minor": 0
}
